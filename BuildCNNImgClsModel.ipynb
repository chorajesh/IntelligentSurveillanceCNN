{
 "cells": [
  {
   "cell_type": "markdown",
   "metadata": {},
   "source": [
    "## Big Data Group I : Intelligent Surveillance -- CNN Model Building Process"
   ]
  },
  {
   "cell_type": "markdown",
   "metadata": {},
   "source": [
    "### Import all necessary packages"
   ]
  },
  {
   "cell_type": "code",
   "execution_count": 1,
   "metadata": {},
   "outputs": [],
   "source": [
    "import cv2\n",
    "from scipy.misc import imread\n",
    "import pandas as pd\n",
    "import numpy as np\n",
    "import os"
   ]
  },
  {
   "cell_type": "markdown",
   "metadata": {},
   "source": [
    "### Copy the image data set from http://vis-www.cs.umass.edu/lfw/lfw.tgz to lfw folder\n",
    "### Align the faces in the LFW data set using openface package and dlib"
   ]
  },
  {
   "cell_type": "code",
   "execution_count": 2,
   "metadata": {},
   "outputs": [
    {
     "name": "stdout",
     "output_type": "stream",
     "text": [
      "=== ./lfw/Jean_Chretien/Jean_Chretien_0044.jpg ===\n",
      "=== ./lfw/Lleyton_Hewitt/Lleyton_Hewitt_0020.jpg ===\n",
      "=== ./lfw/Jacques_Chirac/Jacques_Chirac_0031.jpg ===\n",
      "=== ./lfw/Sercan/IMG_0912.jpg ===\n",
      "=== ./lfw/Ozan/ozan20.jpg ===\n",
      "=== ./lfw/John_Ashcroft/John_Ashcroft_0022.jpg ===\n",
      "=== ./lfw/Rajesh/rajesh32.jpeg ===\n",
      "=== ./lfw/Hans_Blix/Hans_Blix_0029.jpg ===\n",
      "=== ./lfw/Jean_Chretien/Jean_Chretien_0038.jpg ===\n",
      "=== ./lfw/Hans_Blix/Hans_Blix_0003.jpg ===\n",
      "=== ./lfw/Gloria_Macapagal_Arroyo/Gloria_Macapagal_Arroyo_0012.jpg ===\n",
      "=== ./lfw/Serena_Williams/Serena_Williams_0035.jpg ===\n",
      "=== ./lfw/Biljana/IMG_6722.JPG ===\n",
      "=== ./lfw/Luiz_Inacio_Lula_da_Silva/Luiz_Inacio_Lula_da_Silva_0004.jpg ===\n",
      "=== ./lfw/Ozan/20170710_154109.jpg ===\n",
      "Invalid SOS parameters for sequential JPEG\n",
      "=== ./lfw/Hans_Blix/Hans_Blix_0035.jpg ===\n",
      "=== ./lfw/Lleyton_Hewitt/Lleyton_Hewitt_0039.jpg ===\n",
      "=== ./lfw/Serena_Williams/Serena_Williams_0023.jpg ===\n",
      "=== ./lfw/Sean/20171019_232109.jpg ===\n",
      "Invalid SOS parameters for sequential JPEG\n",
      "=== ./lfw/Vladimir_Putin/Vladimir_Putin_0035.jpg ===\n",
      "=== ./lfw/Jacques_Chirac/Jacques_Chirac_0023.jpg ===\n",
      "=== ./lfw/Biljana/230146_1046903857299_6803_n.jpg ===\n",
      "=== ./lfw/Ozan/ozan19.jpg ===\n",
      "=== ./lfw/Hans_Blix/Hans_Blix_0008.jpg ===\n",
      "=== ./lfw/Junichiro_Koizumi/Junichiro_Koizumi_0048.jpg ===\n",
      "=== ./lfw/Jennifer_Capriati/Jennifer_Capriati_0011.jpg ===\n",
      "=== ./lfw/Gloria_Macapagal_Arroyo/Gloria_Macapagal_Arroyo_0032.jpg ===\n",
      "=== ./lfw/Vladimir_Putin/Vladimir_Putin_0004.jpg ===\n",
      "=== ./lfw/Luiz_Inacio_Lula_da_Silva/Luiz_Inacio_Lula_da_Silva_0006.jpg ===\n",
      "=== ./lfw/Alejandro_Toledo/Alejandro_Toledo_0006.jpg ===\n",
      "=== ./lfw/Hans_Blix/Hans_Blix_0023.jpg ===\n",
      "=== ./lfw/Laura_Bush/Laura_Bush_0034.jpg ===\n",
      "=== ./lfw/Jennifer_Capriati/Jennifer_Capriati_0025.jpg ===\n",
      "=== ./lfw/Laura_Bush/Laura_Bush_0001.jpg ===\n",
      "=== ./lfw/Serena_Williams/Serena_Williams_0029.jpg ===\n",
      "=== ./lfw/Ozan/ozan21.jpg ===\n",
      "=== ./lfw/Nestor_Kirchner/Nestor_Kirchner_0019.jpg ===\n",
      "=== ./lfw/Nestor_Kirchner/Nestor_Kirchner_0037.jpg ===\n",
      "=== ./lfw/Jacques_Chirac/Jacques_Chirac_0050.jpg ===\n",
      "=== ./lfw/Arnold_Schwarzenegger/Arnold_Schwarzenegger_0013.jpg ===\n",
      "=== ./lfw/Rajesh/rajesh11.jpg ===\n",
      "=== ./lfw/Hans_Blix/Hans_Blix_0032.jpg ===\n",
      "=== ./lfw/Hans_Blix/Hans_Blix_0002.jpg ===\n",
      "=== ./lfw/Laura_Bush/Laura_Bush_0020.jpg ===\n",
      "=== ./lfw/John_Ashcroft/John_Ashcroft_0027.jpg ===\n",
      "=== ./lfw/Sean/20180314_202812.jpg ===\n",
      "Invalid SOS parameters for sequential JPEG\n",
      "=== ./lfw/Serena_Williams/Serena_Williams_0015.jpg ===\n",
      "=== ./lfw/Rajesh/rajesh34.jpeg ===\n",
      "=== ./lfw/Jacques_Chirac/Jacques_Chirac_0036.jpg ===\n",
      "=== ./lfw/Laura_Bush/Laura_Bush_0005.jpg ===\n",
      "=== ./lfw/Gloria_Macapagal_Arroyo/Gloria_Macapagal_Arroyo_0022.jpg ===\n",
      "=== ./lfw/Vladimir_Putin/Vladimir_Putin_0032.jpg ===\n",
      "=== ./lfw/Jacques_Chirac/Jacques_Chirac_0040.jpg ===\n",
      "=== ./lfw/Arnold_Schwarzenegger/Arnold_Schwarzenegger_0005.jpg ===\n",
      "=== ./lfw/Biljana/10562755_10204589113432252_4773315642187760013_o.jpg ===\n",
      "=== ./lfw/Junichiro_Koizumi/Junichiro_Koizumi_0025.jpg ===\n",
      "=== ./lfw/Gloria_Macapagal_Arroyo/Gloria_Macapagal_Arroyo_0029.jpg ===\n",
      "=== ./lfw/Arnold_Schwarzenegger/Arnold_Schwarzenegger_0025.jpg ===\n",
      "=== ./lfw/Serena_Williams/Serena_Williams_0016.jpg ===\n",
      "=== ./lfw/Biljana/13263753_10209587016776712_4721780086496301764_n.jpg ===\n",
      "=== ./lfw/Junichiro_Koizumi/Junichiro_Koizumi_0056.jpg ===\n",
      "=== ./lfw/Vladimir_Putin/Vladimir_Putin_0008.jpg ===\n",
      "=== ./lfw/Jean_Chretien/Jean_Chretien_0051.jpg ===\n",
      "=== ./lfw/Laura_Bush/Laura_Bush_0016.jpg ===\n",
      "=== ./lfw/John_Ashcroft/John_Ashcroft_0013.jpg ===\n",
      "=== ./lfw/Jennifer_Capriati/Jennifer_Capriati_0031.jpg ===\n",
      "=== ./lfw/Serena_Williams/Serena_Williams_0030.jpg ===\n",
      "=== ./lfw/Laura_Bush/Laura_Bush_0003.jpg ===\n",
      "=== ./lfw/Nestor_Kirchner/Nestor_Kirchner_0031.jpg ===\n",
      "=== ./lfw/Jacques_Chirac/Jacques_Chirac_0011.jpg ===\n",
      "=== ./lfw/Vladimir_Putin/Vladimir_Putin_0049.jpg ===\n",
      "=== ./lfw/Sean/20180208_082022.jpg ===\n",
      "Invalid SOS parameters for sequential JPEG\n",
      "=== ./lfw/Luiz_Inacio_Lula_da_Silva/Luiz_Inacio_Lula_da_Silva_0042.jpg ===\n",
      "=== ./lfw/Laura_Bush/Laura_Bush_0032.jpg ===\n",
      "=== ./lfw/Sean/20170919_091344.jpg ===\n",
      "Invalid SOS parameters for sequential JPEG\n",
      "=== ./lfw/Serena_Williams/Serena_Williams_0040.jpg ===\n",
      "=== ./lfw/Alejandro_Toledo/Alejandro_Toledo_0008.jpg ===\n",
      "=== ./lfw/Serena_Williams/Serena_Williams_0050.jpg ===\n",
      "=== ./lfw/Laura_Bush/Laura_Bush_0006.jpg ===\n",
      "=== ./lfw/Nestor_Kirchner/Nestor_Kirchner_0025.jpg ===\n",
      "=== ./lfw/Vladimir_Putin/Vladimir_Putin_0039.jpg ===\n",
      "=== ./lfw/Vladimir_Putin/Vladimir_Putin_0043.jpg ===\n",
      "=== ./lfw/Jean_Chretien/Jean_Chretien_0011.jpg ===\n",
      "=== ./lfw/Sean/20170919_091342.jpg ===\n",
      "Invalid SOS parameters for sequential JPEG\n",
      "=== ./lfw/Nestor_Kirchner/Nestor_Kirchner_0026.jpg ===\n",
      "=== ./lfw/Ozan/ozan15.jpg ===\n",
      "=== ./lfw/Lleyton_Hewitt/Lleyton_Hewitt_0038.jpg ===\n",
      "=== ./lfw/Lleyton_Hewitt/Lleyton_Hewitt_0023.jpg ===\n",
      "=== ./lfw/Luiz_Inacio_Lula_da_Silva/Luiz_Inacio_Lula_da_Silva_0046.jpg ===\n",
      "=== ./lfw/Laura_Bush/Laura_Bush_0035.jpg ===\n",
      "=== ./lfw/Ozan/ozan9.jpg ===\n",
      "=== ./lfw/Sean/20170919_075410.jpg ===\n",
      "Invalid SOS parameters for sequential JPEG\n",
      "=== ./lfw/Jennifer_Capriati/Jennifer_Capriati_0004.jpg ===\n",
      "=== ./lfw/Jacques_Chirac/Jacques_Chirac_0004.jpg ===\n",
      "=== ./lfw/Hans_Blix/Hans_Blix_0031.jpg ===\n",
      "=== ./lfw/Junichiro_Koizumi/Junichiro_Koizumi_0046.jpg ===\n",
      "=== ./lfw/Arnold_Schwarzenegger/Arnold_Schwarzenegger_0028.jpg ===\n",
      "=== ./lfw/Serena_Williams/Serena_Williams_0019.jpg ===\n",
      "=== ./lfw/John_Ashcroft/John_Ashcroft_0044.jpg ===\n",
      "=== ./lfw/Jean_Chretien/Jean_Chretien_0023.jpg ===\n",
      "=== ./lfw/Rajesh/rajesh14.jpg ===\n",
      "=== ./lfw/Nestor_Kirchner/Nestor_Kirchner_0032.jpg ===\n",
      "=== ./lfw/Jean_Chretien/Jean_Chretien_0019.jpg ===\n",
      "=== ./lfw/Biljana/IMG_6047.JPG ===\n",
      "=== ./lfw/Jean_Chretien/Jean_Chretien_0029.jpg ===\n",
      "=== ./lfw/Jean_Chretien/Jean_Chretien_0052.jpg ===\n",
      "=== ./lfw/Jean_Chretien/Jean_Chretien_0053.jpg ===\n",
      "=== ./lfw/Arnold_Schwarzenegger/Arnold_Schwarzenegger_0004.jpg ===\n",
      "=== ./lfw/Serena_Williams/Serena_Williams_0038.jpg ===\n",
      "=== ./lfw/Serena_Williams/Serena_Williams_0037.jpg ===\n",
      "=== ./lfw/Sean/20180504_120230.jpg ===\n",
      "Invalid SOS parameters for sequential JPEG\n",
      "=== ./lfw/Vladimir_Putin/Vladimir_Putin_0037.jpg ===\n",
      "=== ./lfw/Luiz_Inacio_Lula_da_Silva/Luiz_Inacio_Lula_da_Silva_0020.jpg ===\n",
      "=== ./lfw/Sercan/sercan2.png ===\n",
      "=== ./lfw/Rajesh/rajesh38.jpeg ===\n",
      "=== ./lfw/Lleyton_Hewitt/Lleyton_Hewitt_0005.jpg ===\n",
      "=== ./lfw/Nestor_Kirchner/Nestor_Kirchner_0015.jpg ===\n",
      "=== ./lfw/Sean/20180918_082612.jpg ===\n",
      "Invalid SOS parameters for sequential JPEG\n",
      "=== ./lfw/Biljana/IMG_1838.JPG ===\n",
      "=== ./lfw/Laura_Bush/Laura_Bush_0019.jpg ===\n",
      "=== ./lfw/Lleyton_Hewitt/Lleyton_Hewitt_0030.jpg ===\n",
      "=== ./lfw/Vladimir_Putin/Vladimir_Putin_0048.jpg ===\n",
      "=== ./lfw/Laura_Bush/Laura_Bush_0002.jpg ===\n",
      "=== ./lfw/Luiz_Inacio_Lula_da_Silva/Luiz_Inacio_Lula_da_Silva_0033.jpg ===\n",
      "=== ./lfw/Serena_Williams/Serena_Williams_0025.jpg ===\n",
      "=== ./lfw/Lleyton_Hewitt/Lleyton_Hewitt_0025.jpg ===\n",
      "=== ./lfw/Arnold_Schwarzenegger/Arnold_Schwarzenegger_0027.jpg ===\n",
      "=== ./lfw/Nestor_Kirchner/Nestor_Kirchner_0029.jpg ===\n",
      "=== ./lfw/Sean/20180121_172229.jpg ===\n",
      "Invalid SOS parameters for sequential JPEG\n",
      "=== ./lfw/Ozan/ozan22.jpg ===\n",
      "=== ./lfw/Jean_Chretien/Jean_Chretien_0022.jpg ===\n",
      "=== ./lfw/Gloria_Macapagal_Arroyo/Gloria_Macapagal_Arroyo_0028.jpg ===\n",
      "=== ./lfw/Alejandro_Toledo/Alejandro_Toledo_0014.jpg ===\n",
      "=== ./lfw/Ozan/ozan8.jpg ===\n",
      "=== ./lfw/Ozan/ozan6.jpg ===\n",
      "=== ./lfw/Sean/20171019_232042.jpg ===\n",
      "Invalid SOS parameters for sequential JPEG\n",
      "=== ./lfw/Gloria_Macapagal_Arroyo/Gloria_Macapagal_Arroyo_0033.jpg ===\n",
      "=== ./lfw/Sean/20180121_181709.jpg ===\n",
      "Invalid SOS parameters for sequential JPEG\n",
      "=== ./lfw/Arnold_Schwarzenegger/Arnold_Schwarzenegger_0024.jpg ===\n",
      "=== ./lfw/Vladimir_Putin/Vladimir_Putin_0019.jpg ===\n",
      "=== ./lfw/Alejandro_Toledo/Alejandro_Toledo_0026.jpg ===\n",
      "=== ./lfw/Gloria_Macapagal_Arroyo/Gloria_Macapagal_Arroyo_0037.jpg ===\n",
      "=== ./lfw/Nestor_Kirchner/Nestor_Kirchner_0028.jpg ===\n",
      "=== ./lfw/Jacques_Chirac/Jacques_Chirac_0028.jpg ===\n",
      "=== ./lfw/Lleyton_Hewitt/Lleyton_Hewitt_0029.jpg ===\n",
      "=== ./lfw/John_Ashcroft/John_Ashcroft_0026.jpg ===\n",
      "=== ./lfw/Lleyton_Hewitt/Lleyton_Hewitt_0031.jpg ===\n",
      "=== ./lfw/Alejandro_Toledo/Alejandro_Toledo_0022.jpg ===\n",
      "=== ./lfw/Luiz_Inacio_Lula_da_Silva/Luiz_Inacio_Lula_da_Silva_0008.jpg ===\n",
      "=== ./lfw/Jennifer_Capriati/Jennifer_Capriati_0027.jpg ===\n",
      "=== ./lfw/Arnold_Schwarzenegger/Arnold_Schwarzenegger_0010.jpg ===\n",
      "=== ./lfw/Sean/20181028_190221.jpg ===\n",
      "Invalid SOS parameters for sequential JPEG\n",
      "=== ./lfw/Junichiro_Koizumi/Junichiro_Koizumi_0037.jpg ===\n",
      "=== ./lfw/Hans_Blix/Hans_Blix_0012.jpg ===\n",
      "=== ./lfw/Jacques_Chirac/Jacques_Chirac_0038.jpg ===\n",
      "=== ./lfw/Sean/20180314_202839.jpg ===\n",
      "Invalid SOS parameters for sequential JPEG\n",
      "=== ./lfw/Junichiro_Koizumi/Junichiro_Koizumi_0022.jpg ===\n",
      "=== ./lfw/Junichiro_Koizumi/Junichiro_Koizumi_0023.jpg ===\n",
      "=== ./lfw/Laura_Bush/Laura_Bush_0031.jpg ===\n",
      "=== ./lfw/Lleyton_Hewitt/Lleyton_Hewitt_0002.jpg ===\n",
      "=== ./lfw/Ozan/ozan12.jpg ===\n",
      "=== ./lfw/Vladimir_Putin/Vladimir_Putin_0017.jpg ===\n",
      "=== ./lfw/Jacques_Chirac/Jacques_Chirac_0024.jpg ===\n",
      "=== ./lfw/Lleyton_Hewitt/Lleyton_Hewitt_0032.jpg ===\n",
      "=== ./lfw/Jean_Chretien/Jean_Chretien_0040.jpg ===\n",
      "=== ./lfw/Rajesh/rajesh35.jpeg ===\n",
      "=== ./lfw/Arnold_Schwarzenegger/Arnold_Schwarzenegger_0019.jpg ===\n",
      "=== ./lfw/Hans_Blix/Hans_Blix_0025.jpg ===\n",
      "=== ./lfw/Luiz_Inacio_Lula_da_Silva/Luiz_Inacio_Lula_da_Silva_0015.jpg ===\n",
      "=== ./lfw/Nestor_Kirchner/Nestor_Kirchner_0023.jpg ===\n",
      "=== ./lfw/Jean_Chretien/Jean_Chretien_0030.jpg ===\n",
      "=== ./lfw/Ozan/ozan5.jpg ===\n",
      "=== ./lfw/Alejandro_Toledo/Alejandro_Toledo_0018.jpg ===\n",
      "=== ./lfw/Junichiro_Koizumi/Junichiro_Koizumi_0021.jpg ===\n",
      "=== ./lfw/Biljana/11012647_10206699419308580_172600970321397254_n.jpg ===\n",
      "=== ./lfw/Junichiro_Koizumi/Junichiro_Koizumi_0005.jpg ===\n",
      "=== ./lfw/Jennifer_Capriati/Jennifer_Capriati_0014.jpg ===\n",
      "=== ./lfw/Vladimir_Putin/Vladimir_Putin_0047.jpg ===\n",
      "=== ./lfw/Sean/20180118_170539.jpg ===\n",
      "Invalid SOS parameters for sequential JPEG\n",
      "=== ./lfw/Laura_Bush/Laura_Bush_0011.jpg ===\n",
      "=== ./lfw/Biljana/IMG_5048d.jpg ===\n",
      "=== ./lfw/Rajesh/rajesh8.jpg ===\n",
      "=== ./lfw/Serena_Williams/Serena_Williams_0006.jpg ===\n",
      "=== ./lfw/Jean_Chretien/Jean_Chretien_0024.jpg ===\n",
      "=== ./lfw/Jacques_Chirac/Jacques_Chirac_0043.jpg ===\n",
      "=== ./lfw/Gloria_Macapagal_Arroyo/Gloria_Macapagal_Arroyo_0016.jpg ===\n",
      "=== ./lfw/Alejandro_Toledo/Alejandro_Toledo_0019.jpg ===\n",
      "=== ./lfw/Vladimir_Putin/Vladimir_Putin_0028.jpg ===\n",
      "=== ./lfw/Luiz_Inacio_Lula_da_Silva/Luiz_Inacio_Lula_da_Silva_0011.jpg ===\n",
      "=== ./lfw/Jacques_Chirac/Jacques_Chirac_0001.jpg ===\n",
      "=== ./lfw/Rajesh/rajesh29.jpeg ===\n",
      "=== ./lfw/Rajesh/rajesh5.jpg ===\n",
      "=== ./lfw/Luiz_Inacio_Lula_da_Silva/Luiz_Inacio_Lula_da_Silva_0005.jpg ===\n",
      "=== ./lfw/Laura_Bush/Laura_Bush_0037.jpg ===\n",
      "=== ./lfw/Sercan/5.jpg ===\n",
      "=== ./lfw/Jennifer_Capriati/Jennifer_Capriati_0003.jpg ===\n",
      "=== ./lfw/Jacques_Chirac/Jacques_Chirac_0006.jpg ===\n",
      "=== ./lfw/Hans_Blix/Hans_Blix_0005.jpg ===\n",
      "=== ./lfw/Vladimir_Putin/Vladimir_Putin_0045.jpg ===\n",
      "=== ./lfw/Lleyton_Hewitt/Lleyton_Hewitt_0010.jpg ===\n",
      "=== ./lfw/Serena_Williams/Serena_Williams_0020.jpg ===\n",
      "=== ./lfw/Junichiro_Koizumi/Junichiro_Koizumi_0024.jpg ===\n",
      "=== ./lfw/Biljana/IMG_3396.JPG ===\n",
      "=== ./lfw/Junichiro_Koizumi/Junichiro_Koizumi_0010.jpg ===\n",
      "=== ./lfw/Nestor_Kirchner/Nestor_Kirchner_0009.jpg ===\n",
      "=== ./lfw/Biljana/1486726_10205200599759028_6312258893526840084_n.jpg ===\n",
      "=== ./lfw/Junichiro_Koizumi/Junichiro_Koizumi_0058.jpg ===\n",
      "=== ./lfw/Sean/20180503_165109.jpg ===\n",
      "Invalid SOS parameters for sequential JPEG\n",
      "=== ./lfw/Ozan/ozan17.jpg ===\n",
      "=== ./lfw/Jean_Chretien/Jean_Chretien_0028.jpg ===\n",
      "=== ./lfw/Ozan/ozan16.jpg ===\n",
      "=== ./lfw/Jean_Chretien/Jean_Chretien_0018.jpg ===\n",
      "=== ./lfw/Sean/20180505_225349.jpg ===\n",
      "Invalid SOS parameters for sequential JPEG\n",
      "=== ./lfw/Hans_Blix/Hans_Blix_0038.jpg ===\n",
      "=== ./lfw/Hans_Blix/Hans_Blix_0010.jpg ===\n",
      "=== ./lfw/Vladimir_Putin/Vladimir_Putin_0023.jpg ===\n",
      "=== ./lfw/Serena_Williams/Serena_Williams_0013.jpg ===\n",
      "=== ./lfw/Sean/20170919_075448.jpg ===\n",
      "Invalid SOS parameters for sequential JPEG\n",
      "=== ./lfw/Sean/20170919_075443.jpg ===\n",
      "Invalid SOS parameters for sequential JPEG\n",
      "=== ./lfw/Ozan/ozan10.jpg ===\n",
      "=== ./lfw/John_Ashcroft/John_Ashcroft_0012.jpg ===\n",
      "=== ./lfw/John_Ashcroft/John_Ashcroft_0010.jpg ===\n",
      "=== ./lfw/Gloria_Macapagal_Arroyo/Gloria_Macapagal_Arroyo_0043.jpg ===\n",
      "=== ./lfw/Junichiro_Koizumi/Junichiro_Koizumi_0049.jpg ===\n",
      "=== ./lfw/Jean_Chretien/Jean_Chretien_0036.jpg ===\n",
      "=== ./lfw/Hans_Blix/Hans_Blix_0039.jpg ===\n",
      "=== ./lfw/Alejandro_Toledo/Alejandro_Toledo_0027.jpg ===\n",
      "=== ./lfw/Hans_Blix/Hans_Blix_0004.jpg ===\n",
      "=== ./lfw/Jennifer_Capriati/Jennifer_Capriati_0020.jpg ===\n",
      "=== ./lfw/Junichiro_Koizumi/Junichiro_Koizumi_0004.jpg ===\n",
      "=== ./lfw/Arnold_Schwarzenegger/Arnold_Schwarzenegger_0012.jpg ===\n",
      "=== ./lfw/Luiz_Inacio_Lula_da_Silva/Luiz_Inacio_Lula_da_Silva_0014.jpg ===\n",
      "=== ./lfw/Luiz_Inacio_Lula_da_Silva/Luiz_Inacio_Lula_da_Silva_0038.jpg ===\n",
      "=== ./lfw/Laura_Bush/Laura_Bush_0008.jpg ===\n",
      "=== ./lfw/Gloria_Macapagal_Arroyo/Gloria_Macapagal_Arroyo_0011.jpg ===\n",
      "=== ./lfw/Hans_Blix/Hans_Blix_0037.jpg ===\n",
      "=== ./lfw/Vladimir_Putin/Vladimir_Putin_0014.jpg ===\n",
      "=== ./lfw/Nestor_Kirchner/Nestor_Kirchner_0035.jpg ===\n",
      "=== ./lfw/Jean_Chretien/Jean_Chretien_0020.jpg ===\n",
      "=== ./lfw/Junichiro_Koizumi/Junichiro_Koizumi_0006.jpg ===\n",
      "=== ./lfw/Alejandro_Toledo/Alejandro_Toledo_0015.jpg ===\n",
      "=== ./lfw/John_Ashcroft/John_Ashcroft_0002.jpg ===\n",
      "=== ./lfw/Laura_Bush/Laura_Bush_0013.jpg ===\n",
      "=== ./lfw/Hans_Blix/Hans_Blix_0018.jpg ===\n",
      "=== ./lfw/Rajesh/rajesh24.jpeg ===\n",
      "=== ./lfw/Jean_Chretien/Jean_Chretien_0004.jpg ===\n",
      "=== ./lfw/Ozan/ozan13.jpg ===\n",
      "=== ./lfw/Arnold_Schwarzenegger/Arnold_Schwarzenegger_0015.jpg ===\n",
      "=== ./lfw/John_Ashcroft/John_Ashcroft_0052.jpg ===\n",
      "=== ./lfw/Sercan/sercan3.png ===\n",
      "=== ./lfw/Laura_Bush/Laura_Bush_0025.jpg ===\n",
      "=== ./lfw/Laura_Bush/Laura_Bush_0017.jpg ===\n",
      "=== ./lfw/Nestor_Kirchner/Nestor_Kirchner_0010.jpg ===\n",
      "=== ./lfw/Nestor_Kirchner/Nestor_Kirchner_0036.jpg ===\n",
      "=== ./lfw/Serena_Williams/Serena_Williams_0010.jpg ===\n",
      "=== ./lfw/Rajesh/rajesh12.jpg ===\n",
      "=== ./lfw/Laura_Bush/Laura_Bush_0023.jpg ===\n",
      "=== ./lfw/Jacques_Chirac/Jacques_Chirac_0014.jpg ===\n",
      "=== ./lfw/Nestor_Kirchner/Nestor_Kirchner_0014.jpg ===\n",
      "=== ./lfw/John_Ashcroft/John_Ashcroft_0007.jpg ===\n",
      "=== ./lfw/Jennifer_Capriati/Jennifer_Capriati_0041.jpg ===\n",
      "=== ./lfw/Vladimir_Putin/Vladimir_Putin_0010.jpg ===\n",
      "=== ./lfw/Laura_Bush/Laura_Bush_0015.jpg ===\n",
      "=== ./lfw/Alejandro_Toledo/Alejandro_Toledo_0002.jpg ===\n",
      "=== ./lfw/Jennifer_Capriati/Jennifer_Capriati_0006.jpg ===\n",
      "=== ./lfw/Laura_Bush/Laura_Bush_0026.jpg ===\n",
      "=== ./lfw/Jean_Chretien/Jean_Chretien_0007.jpg ===\n",
      "=== ./lfw/John_Ashcroft/John_Ashcroft_0032.jpg ===\n",
      "=== ./lfw/Gloria_Macapagal_Arroyo/Gloria_Macapagal_Arroyo_0026.jpg ===\n",
      "=== ./lfw/Luiz_Inacio_Lula_da_Silva/Luiz_Inacio_Lula_da_Silva_0025.jpg ===\n",
      "=== ./lfw/Jacques_Chirac/Jacques_Chirac_0041.jpg ===\n",
      "=== ./lfw/Lleyton_Hewitt/Lleyton_Hewitt_0014.jpg ===\n",
      "=== ./lfw/Sean/20180208_082033.jpg ===\n",
      "Invalid SOS parameters for sequential JPEG\n",
      "=== ./lfw/Sean/20180112_131612.jpg ===\n",
      "Invalid SOS parameters for sequential JPEG\n",
      "=== ./lfw/Laura_Bush/Laura_Bush_0039.jpg ===\n",
      "=== ./lfw/Junichiro_Koizumi/Junichiro_Koizumi_0001.jpg ===\n",
      "=== ./lfw/Lleyton_Hewitt/Lleyton_Hewitt_0019.jpg ===\n",
      "=== ./lfw/Arnold_Schwarzenegger/Arnold_Schwarzenegger_0031.jpg ===\n",
      "=== ./lfw/Hans_Blix/Hans_Blix_0019.jpg ===\n",
      "=== ./lfw/Gloria_Macapagal_Arroyo/Gloria_Macapagal_Arroyo_0041.jpg ===\n",
      "=== ./lfw/Serena_Williams/Serena_Williams_0048.jpg ===\n",
      "=== ./lfw/Sean/20180104_212050.jpg ===\n",
      "Invalid SOS parameters for sequential JPEG\n",
      "=== ./lfw/Junichiro_Koizumi/Junichiro_Koizumi_0039.jpg ===\n",
      "=== ./lfw/Lleyton_Hewitt/Lleyton_Hewitt_0001.jpg ===\n",
      "=== ./lfw/Ozan/ozan1.jpg ===\n",
      "=== ./lfw/Gloria_Macapagal_Arroyo/Gloria_Macapagal_Arroyo_0031.jpg ===\n",
      "=== ./lfw/Serena_Williams/Serena_Williams_0039.jpg ===\n",
      "=== ./lfw/Hans_Blix/Hans_Blix_0007.jpg ===\n",
      "=== ./lfw/Jean_Chretien/Jean_Chretien_0010.jpg ===\n",
      "=== ./lfw/John_Ashcroft/John_Ashcroft_0018.jpg ===\n",
      "=== ./lfw/Alejandro_Toledo/Alejandro_Toledo_0029.jpg ===\n",
      "=== ./lfw/Nestor_Kirchner/Nestor_Kirchner_0011.jpg ===\n",
      "=== ./lfw/Serena_Williams/Serena_Williams_0003.jpg ===\n",
      "=== ./lfw/Laura_Bush/Laura_Bush_0009.jpg ===\n",
      "=== ./lfw/Junichiro_Koizumi/Junichiro_Koizumi_0041.jpg ===\n",
      "=== ./lfw/Luiz_Inacio_Lula_da_Silva/Luiz_Inacio_Lula_da_Silva_0017.jpg ===\n",
      "=== ./lfw/Rajesh/rajesh23.jpeg ===\n",
      "=== ./lfw/Vladimir_Putin/Vladimir_Putin_0002.jpg ===\n",
      "=== ./lfw/Junichiro_Koizumi/Junichiro_Koizumi_0036.jpg ===\n",
      "=== ./lfw/Jean_Chretien/Jean_Chretien_0003.jpg ===\n",
      "=== ./lfw/Junichiro_Koizumi/Junichiro_Koizumi_0057.jpg ===\n",
      "=== ./lfw/Jennifer_Capriati/Jennifer_Capriati_0016.jpg ===\n",
      "=== ./lfw/Luiz_Inacio_Lula_da_Silva/Luiz_Inacio_Lula_da_Silva_0035.jpg ===\n",
      "=== ./lfw/John_Ashcroft/John_Ashcroft_0011.jpg ===\n",
      "=== ./lfw/Rajesh/rajesh33.jpeg ===\n",
      "=== ./lfw/Ozan/ozan14.jpg ===\n",
      "=== ./lfw/Vladimir_Putin/Vladimir_Putin_0016.jpg ===\n",
      "=== ./lfw/Arnold_Schwarzenegger/Arnold_Schwarzenegger_0030.jpg ===\n",
      "=== ./lfw/Jean_Chretien/Jean_Chretien_0008.jpg ===\n",
      "=== ./lfw/Vladimir_Putin/Vladimir_Putin_0020.jpg ===\n",
      "=== ./lfw/Luiz_Inacio_Lula_da_Silva/Luiz_Inacio_Lula_da_Silva_0026.jpg ===\n",
      "=== ./lfw/Luiz_Inacio_Lula_da_Silva/Luiz_Inacio_Lula_da_Silva_0022.jpg ===\n",
      "=== ./lfw/Nestor_Kirchner/Nestor_Kirchner_0012.jpg ===\n",
      "=== ./lfw/Junichiro_Koizumi/Junichiro_Koizumi_0035.jpg ===\n",
      "=== ./lfw/Jennifer_Capriati/Jennifer_Capriati_0010.jpg ===\n",
      "=== ./lfw/Junichiro_Koizumi/Junichiro_Koizumi_0053.jpg ===\n",
      "=== ./lfw/Jennifer_Capriati/Jennifer_Capriati_0024.jpg ===\n",
      "=== ./lfw/Jennifer_Capriati/Jennifer_Capriati_0005.jpg ===\n",
      "=== ./lfw/Serena_Williams/Serena_Williams_0033.jpg ===\n",
      "=== ./lfw/Vladimir_Putin/Vladimir_Putin_0021.jpg ===\n",
      "=== ./lfw/Jennifer_Capriati/Jennifer_Capriati_0023.jpg ===\n",
      "=== ./lfw/Junichiro_Koizumi/Junichiro_Koizumi_0055.jpg ===\n",
      "=== ./lfw/Jean_Chretien/Jean_Chretien_0027.jpg ===\n",
      "=== ./lfw/Lleyton_Hewitt/Lleyton_Hewitt_0012.jpg ===\n",
      "=== ./lfw/John_Ashcroft/John_Ashcroft_0031.jpg ===\n",
      "=== ./lfw/Jean_Chretien/Jean_Chretien_0045.jpg ===\n",
      "=== ./lfw/John_Ashcroft/John_Ashcroft_0028.jpg ===\n",
      "=== ./lfw/Gloria_Macapagal_Arroyo/Gloria_Macapagal_Arroyo_0025.jpg ===\n",
      "=== ./lfw/Luiz_Inacio_Lula_da_Silva/Luiz_Inacio_Lula_da_Silva_0039.jpg ===\n",
      "=== ./lfw/Sercan/3.jpg ===\n",
      "=== ./lfw/Jennifer_Capriati/Jennifer_Capriati_0002.jpg ===\n",
      "=== ./lfw/Gloria_Macapagal_Arroyo/Gloria_Macapagal_Arroyo_0035.jpg ===\n",
      "=== ./lfw/Vladimir_Putin/Vladimir_Putin_0006.jpg ===\n",
      "=== ./lfw/Jean_Chretien/Jean_Chretien_0055.jpg ===\n",
      "=== ./lfw/John_Ashcroft/John_Ashcroft_0006.jpg ===\n",
      "=== ./lfw/Rajesh/rajesh1.jpg ===\n",
      "=== ./lfw/Junichiro_Koizumi/Junichiro_Koizumi_0008.jpg ===\n",
      "=== ./lfw/Junichiro_Koizumi/Junichiro_Koizumi_0017.jpg ===\n",
      "=== ./lfw/Arnold_Schwarzenegger/Arnold_Schwarzenegger_0029.jpg ===\n",
      "=== ./lfw/Jennifer_Capriati/Jennifer_Capriati_0028.jpg ===\n",
      "=== ./lfw/Jacques_Chirac/Jacques_Chirac_0039.jpg ===\n",
      "=== ./lfw/Jacques_Chirac/Jacques_Chirac_0005.jpg ===\n",
      "=== ./lfw/Serena_Williams/Serena_Williams_0044.jpg ===\n",
      "=== ./lfw/Rajesh/rajesh39.jpeg ===\n",
      "=== ./lfw/John_Ashcroft/John_Ashcroft_0037.jpg ===\n",
      "=== ./lfw/Hans_Blix/Hans_Blix_0001.jpg ===\n",
      "=== ./lfw/Serena_Williams/Serena_Williams_0046.jpg ===\n",
      "=== ./lfw/Jean_Chretien/Jean_Chretien_0049.jpg ===\n",
      "=== ./lfw/Vladimir_Putin/Vladimir_Putin_0027.jpg ===\n",
      "=== ./lfw/Alejandro_Toledo/Alejandro_Toledo_0037.jpg ===\n",
      "=== ./lfw/Rajesh/rajesh27.jpeg ===\n",
      "=== ./lfw/Jacques_Chirac/Jacques_Chirac_0035.jpg ===\n",
      "=== ./lfw/Lleyton_Hewitt/Lleyton_Hewitt_0003.jpg ===\n",
      "=== ./lfw/John_Ashcroft/John_Ashcroft_0024.jpg ===\n",
      "=== ./lfw/Gloria_Macapagal_Arroyo/Gloria_Macapagal_Arroyo_0030.jpg ===\n",
      "=== ./lfw/Sean/20170919_075454.jpg ===\n",
      "Invalid SOS parameters for sequential JPEG\n",
      "=== ./lfw/Sean/20180208_082036.jpg ===\n",
      "Invalid SOS parameters for sequential JPEG\n",
      "=== ./lfw/Nestor_Kirchner/Nestor_Kirchner_0008.jpg ===\n",
      "=== ./lfw/Arnold_Schwarzenegger/Arnold_Schwarzenegger_0037.jpg ===\n",
      "=== ./lfw/Jennifer_Capriati/Jennifer_Capriati_0021.jpg ===\n",
      "=== ./lfw/Nestor_Kirchner/Nestor_Kirchner_0013.jpg ===\n",
      "=== ./lfw/John_Ashcroft/John_Ashcroft_0030.jpg ===\n",
      "=== ./lfw/Serena_Williams/Serena_Williams_0017.jpg ===\n",
      "=== ./lfw/Serena_Williams/Serena_Williams_0045.jpg ===\n",
      "=== ./lfw/Jean_Chretien/Jean_Chretien_0031.jpg ===\n",
      "=== ./lfw/Lleyton_Hewitt/Lleyton_Hewitt_0018.jpg ===\n",
      "=== ./lfw/Jennifer_Capriati/Jennifer_Capriati_0038.jpg ===\n",
      "=== ./lfw/Gloria_Macapagal_Arroyo/Gloria_Macapagal_Arroyo_0004.jpg ===\n",
      "=== ./lfw/Serena_Williams/Serena_Williams_0014.jpg ===\n",
      "=== ./lfw/Hans_Blix/Hans_Blix_0028.jpg ===\n",
      "=== ./lfw/Junichiro_Koizumi/Junichiro_Koizumi_0050.jpg ===\n",
      "=== ./lfw/Vladimir_Putin/Vladimir_Putin_0042.jpg ===\n",
      "=== ./lfw/Hans_Blix/Hans_Blix_0013.jpg ===\n",
      "=== ./lfw/Junichiro_Koizumi/Junichiro_Koizumi_0020.jpg ===\n",
      "=== ./lfw/Junichiro_Koizumi/Junichiro_Koizumi_0028.jpg ===\n",
      "=== ./lfw/Jennifer_Capriati/Jennifer_Capriati_0039.jpg ===\n",
      "=== ./lfw/Biljana/IMG_5217.JPG ===\n",
      "=== ./lfw/Vladimir_Putin/Vladimir_Putin_0033.jpg ===\n",
      "=== ./lfw/Laura_Bush/Laura_Bush_0033.jpg ===\n",
      "=== ./lfw/Hans_Blix/Hans_Blix_0014.jpg ===\n",
      "=== ./lfw/Serena_Williams/Serena_Williams_0032.jpg ===\n",
      "=== ./lfw/Arnold_Schwarzenegger/Arnold_Schwarzenegger_0009.jpg ===\n",
      "=== ./lfw/Gloria_Macapagal_Arroyo/Gloria_Macapagal_Arroyo_0024.jpg ===\n",
      "=== ./lfw/Sean/20180314_202749.jpg ===\n",
      "Invalid SOS parameters for sequential JPEG\n",
      "=== ./lfw/Luiz_Inacio_Lula_da_Silva/Luiz_Inacio_Lula_da_Silva_0036.jpg ===\n",
      "=== ./lfw/Jacques_Chirac/Jacques_Chirac_0022.jpg ===\n",
      "=== ./lfw/Lleyton_Hewitt/Lleyton_Hewitt_0022.jpg ===\n",
      "=== ./lfw/Hans_Blix/Hans_Blix_0011.jpg ===\n",
      "=== ./lfw/Arnold_Schwarzenegger/Arnold_Schwarzenegger_0014.jpg ===\n",
      "=== ./lfw/Jean_Chretien/Jean_Chretien_0017.jpg ===\n",
      "=== ./lfw/Jacques_Chirac/Jacques_Chirac_0037.jpg ===\n",
      "=== ./lfw/Gloria_Macapagal_Arroyo/Gloria_Macapagal_Arroyo_0002.jpg ===\n",
      "=== ./lfw/Jean_Chretien/Jean_Chretien_0015.jpg ===\n",
      "=== ./lfw/Jean_Chretien/Jean_Chretien_0047.jpg ===\n",
      "=== ./lfw/Lleyton_Hewitt/Lleyton_Hewitt_0024.jpg ===\n",
      "=== ./lfw/Ozan/ozan2.jpg ===\n",
      "=== ./lfw/Jacques_Chirac/Jacques_Chirac_0008.jpg ===\n",
      "=== ./lfw/Sercan/IMG_7361.jpg ===\n",
      "=== ./lfw/Jacques_Chirac/Jacques_Chirac_0049.jpg ===\n",
      "=== ./lfw/Luiz_Inacio_Lula_da_Silva/Luiz_Inacio_Lula_da_Silva_0045.jpg ===\n",
      "=== ./lfw/Gloria_Macapagal_Arroyo/Gloria_Macapagal_Arroyo_0040.jpg ===\n",
      "=== ./lfw/Jean_Chretien/Jean_Chretien_0043.jpg ===\n",
      "=== ./lfw/Junichiro_Koizumi/Junichiro_Koizumi_0027.jpg ===\n",
      "=== ./lfw/Nestor_Kirchner/Nestor_Kirchner_0033.jpg ===\n",
      "=== ./lfw/Jennifer_Capriati/Jennifer_Capriati_0042.jpg ===\n",
      "=== ./lfw/Vladimir_Putin/Vladimir_Putin_0029.jpg ===\n",
      "=== ./lfw/Gloria_Macapagal_Arroyo/Gloria_Macapagal_Arroyo_0021.jpg ===\n",
      "=== ./lfw/Jennifer_Capriati/Jennifer_Capriati_0019.jpg ===\n",
      "=== ./lfw/Nestor_Kirchner/Nestor_Kirchner_0004.jpg ===\n",
      "=== ./lfw/Arnold_Schwarzenegger/Arnold_Schwarzenegger_0007.jpg ===\n",
      "=== ./lfw/Jean_Chretien/Jean_Chretien_0034.jpg ===\n",
      "=== ./lfw/Jennifer_Capriati/Jennifer_Capriati_0032.jpg ===\n",
      "=== ./lfw/Vladimir_Putin/Vladimir_Putin_0038.jpg ===\n",
      "=== ./lfw/Lleyton_Hewitt/Lleyton_Hewitt_0028.jpg ===\n",
      "=== ./lfw/John_Ashcroft/John_Ashcroft_0053.jpg ===\n",
      "=== ./lfw/Ozan/ozan4.jpg ===\n",
      "=== ./lfw/Gloria_Macapagal_Arroyo/Gloria_Macapagal_Arroyo_0034.jpg ===\n",
      "=== ./lfw/Luiz_Inacio_Lula_da_Silva/Luiz_Inacio_Lula_da_Silva_0024.jpg ===\n",
      "=== ./lfw/Jennifer_Capriati/Jennifer_Capriati_0037.jpg ===\n",
      "=== ./lfw/Luiz_Inacio_Lula_da_Silva/Luiz_Inacio_Lula_da_Silva_0007.jpg ===\n",
      "=== ./lfw/Arnold_Schwarzenegger/Arnold_Schwarzenegger_0001.jpg ===\n",
      "=== ./lfw/Sean/20170919_091331.jpg ===\n",
      "Invalid SOS parameters for sequential JPEG\n",
      "=== ./lfw/Arnold_Schwarzenegger/Arnold_Schwarzenegger_0016.jpg ===\n",
      "=== ./lfw/Nestor_Kirchner/Nestor_Kirchner_0020.jpg ===\n",
      "=== ./lfw/Alejandro_Toledo/Alejandro_Toledo_0005.jpg ===\n",
      "=== ./lfw/Vladimir_Putin/Vladimir_Putin_0041.jpg ===\n",
      "=== ./lfw/Serena_Williams/Serena_Williams_0007.jpg ===\n",
      "=== ./lfw/Jennifer_Capriati/Jennifer_Capriati_0012.jpg ===\n",
      "=== ./lfw/Sean/20180314_202759.jpg ===\n",
      "Invalid SOS parameters for sequential JPEG\n",
      "=== ./lfw/Hans_Blix/Hans_Blix_0021.jpg ===\n",
      "=== ./lfw/Jean_Chretien/Jean_Chretien_0026.jpg ===\n",
      "=== ./lfw/Rajesh/rajesh9.jpg ===\n",
      "=== ./lfw/Nestor_Kirchner/Nestor_Kirchner_0022.jpg ===\n",
      "=== ./lfw/Gloria_Macapagal_Arroyo/Gloria_Macapagal_Arroyo_0044.jpg ===\n",
      "=== ./lfw/Rajesh/rajesh13.jpg ===\n",
      "=== ./lfw/Jean_Chretien/Jean_Chretien_0002.jpg ===\n",
      "=== ./lfw/Gloria_Macapagal_Arroyo/Gloria_Macapagal_Arroyo_0007.jpg ===\n",
      "=== ./lfw/Arnold_Schwarzenegger/Arnold_Schwarzenegger_0034.jpg ===\n",
      "=== ./lfw/Sean/20171025_171613.jpg ===\n",
      "Invalid SOS parameters for sequential JPEG\n",
      "=== ./lfw/Sean/20180314_202749-1.jpg ===\n",
      "Invalid SOS parameters for sequential JPEG\n",
      "=== ./lfw/Jacques_Chirac/Jacques_Chirac_0042.jpg ===\n",
      "=== ./lfw/Lleyton_Hewitt/Lleyton_Hewitt_0008.jpg ===\n",
      "=== ./lfw/John_Ashcroft/John_Ashcroft_0009.jpg ===\n",
      "=== ./lfw/Luiz_Inacio_Lula_da_Silva/Luiz_Inacio_Lula_da_Silva_0043.jpg ===\n",
      "=== ./lfw/Laura_Bush/Laura_Bush_0030.jpg ===\n",
      "=== ./lfw/Serena_Williams/Serena_Williams_0002.jpg ===\n",
      "=== ./lfw/Laura_Bush/Laura_Bush_0004.jpg ===\n",
      "=== ./lfw/Alejandro_Toledo/Alejandro_Toledo_0031.jpg ===\n",
      "=== ./lfw/Sercan/IMG_2598.jpg ===\n",
      "=== ./lfw/Rajesh/rajesh19.jpg ===\n",
      "=== ./lfw/Jennifer_Capriati/Jennifer_Capriati_0001.jpg ===\n",
      "=== ./lfw/Rajesh/rajesh18.jpg ===\n",
      "=== ./lfw/John_Ashcroft/John_Ashcroft_0036.jpg ===\n",
      "=== ./lfw/John_Ashcroft/John_Ashcroft_0043.jpg ===\n",
      "=== ./lfw/John_Ashcroft/John_Ashcroft_0035.jpg ===\n",
      "=== ./lfw/John_Ashcroft/John_Ashcroft_0050.jpg ===\n",
      "=== ./lfw/John_Ashcroft/John_Ashcroft_0020.jpg ===\n",
      "=== ./lfw/Alejandro_Toledo/Alejandro_Toledo_0039.jpg ===\n",
      "=== ./lfw/Jean_Chretien/Jean_Chretien_0042.jpg ===\n",
      "=== ./lfw/Rajesh/rajesh22.jpeg ===\n",
      "=== ./lfw/Rajesh/rajesh7.jpg ===\n",
      "=== ./lfw/Alejandro_Toledo/Alejandro_Toledo_0020.jpg ===\n",
      "=== ./lfw/Junichiro_Koizumi/Junichiro_Koizumi_0009.jpg ===\n",
      "=== ./lfw/Alejandro_Toledo/Alejandro_Toledo_0011.jpg ===\n",
      "=== ./lfw/Serena_Williams/Serena_Williams_0021.jpg ===\n",
      "=== ./lfw/Gloria_Macapagal_Arroyo/Gloria_Macapagal_Arroyo_0027.jpg ===\n",
      "=== ./lfw/Sean/20170919_075442.jpg ===\n",
      "Invalid SOS parameters for sequential JPEG\n",
      "=== ./lfw/Alejandro_Toledo/Alejandro_Toledo_0010.jpg ===\n",
      "=== ./lfw/Vladimir_Putin/Vladimir_Putin_0015.jpg ===\n",
      "=== ./lfw/Arnold_Schwarzenegger/Arnold_Schwarzenegger_0006.jpg ===\n",
      "=== ./lfw/Junichiro_Koizumi/Junichiro_Koizumi_0051.jpg ===\n",
      "=== ./lfw/Luiz_Inacio_Lula_da_Silva/Luiz_Inacio_Lula_da_Silva_0013.jpg ===\n",
      "=== ./lfw/Jacques_Chirac/Jacques_Chirac_0010.jpg ===\n",
      "=== ./lfw/Nestor_Kirchner/Nestor_Kirchner_0027.jpg ===\n",
      "=== ./lfw/Sean/20180208_082017.jpg ===\n",
      "Invalid SOS parameters for sequential JPEG\n",
      "=== ./lfw/Lleyton_Hewitt/Lleyton_Hewitt_0027.jpg ===\n",
      "=== ./lfw/Jacques_Chirac/Jacques_Chirac_0019.jpg ===\n",
      "=== ./lfw/Luiz_Inacio_Lula_da_Silva/Luiz_Inacio_Lula_da_Silva_0032.jpg ===\n",
      "=== ./lfw/Luiz_Inacio_Lula_da_Silva/Luiz_Inacio_Lula_da_Silva_0041.jpg ===\n",
      "=== ./lfw/Alejandro_Toledo/Alejandro_Toledo_0003.jpg ===\n",
      "=== ./lfw/Serena_Williams/Serena_Williams_0024.jpg ===\n",
      "=== ./lfw/Jacques_Chirac/Jacques_Chirac_0003.jpg ===\n",
      "=== ./lfw/Jennifer_Capriati/Jennifer_Capriati_0007.jpg ===\n",
      "=== ./lfw/Sean/20180314_202827.jpg ===\n",
      "Invalid SOS parameters for sequential JPEG\n",
      "=== ./lfw/Luiz_Inacio_Lula_da_Silva/Luiz_Inacio_Lula_da_Silva_0028.jpg ===\n",
      "=== ./lfw/Laura_Bush/Laura_Bush_0007.jpg ===\n",
      "=== ./lfw/Alejandro_Toledo/Alejandro_Toledo_0007.jpg ===\n",
      "=== ./lfw/Jennifer_Capriati/Jennifer_Capriati_0008.jpg ===\n",
      "=== ./lfw/Arnold_Schwarzenegger/Arnold_Schwarzenegger_0039.jpg ===\n",
      "=== ./lfw/Jacques_Chirac/Jacques_Chirac_0047.jpg ===\n",
      "=== ./lfw/Laura_Bush/Laura_Bush_0024.jpg ===\n",
      "=== ./lfw/Sercan/Photo on 11-14-18 at 10.20 AM.jpg ===\n",
      "=== ./lfw/Junichiro_Koizumi/Junichiro_Koizumi_0002.jpg ===\n",
      "=== ./lfw/Jean_Chretien/Jean_Chretien_0035.jpg ===\n",
      "=== ./lfw/Vladimir_Putin/Vladimir_Putin_0024.jpg ===\n",
      "=== ./lfw/Jean_Chretien/Jean_Chretien_0039.jpg ===\n",
      "=== ./lfw/John_Ashcroft/John_Ashcroft_0004.jpg ===\n",
      "=== ./lfw/Junichiro_Koizumi/Junichiro_Koizumi_0015.jpg ===\n",
      "=== ./lfw/Alejandro_Toledo/Alejandro_Toledo_0009.jpg ===\n",
      "=== ./lfw/Sean/20180522_211210.jpg ===\n",
      "Invalid SOS parameters for sequential JPEG\n",
      "=== ./lfw/Sean/20170919_075449.jpg ===\n",
      "Invalid SOS parameters for sequential JPEG\n",
      "=== ./lfw/Arnold_Schwarzenegger/Arnold_Schwarzenegger_0035.jpg ===\n",
      "=== ./lfw/Vladimir_Putin/Vladimir_Putin_0003.jpg ===\n",
      "=== ./lfw/Junichiro_Koizumi/Junichiro_Koizumi_0029.jpg ===\n",
      "=== ./lfw/John_Ashcroft/John_Ashcroft_0051.jpg ===\n",
      "=== ./lfw/Junichiro_Koizumi/Junichiro_Koizumi_0030.jpg ===\n",
      "=== ./lfw/Vladimir_Putin/Vladimir_Putin_0022.jpg ===\n",
      "=== ./lfw/Alejandro_Toledo/Alejandro_Toledo_0001.jpg ===\n",
      "=== ./lfw/Jean_Chretien/Jean_Chretien_0037.jpg ===\n",
      "=== ./lfw/Lleyton_Hewitt/Lleyton_Hewitt_0007.jpg ===\n",
      "=== ./lfw/Vladimir_Putin/Vladimir_Putin_0036.jpg ===\n",
      "=== ./lfw/Ozan/ozan11.jpg ===\n",
      "=== ./lfw/Jacques_Chirac/Jacques_Chirac_0025.jpg ===\n",
      "=== ./lfw/Jacques_Chirac/Jacques_Chirac_0029.jpg ===\n",
      "=== ./lfw/Laura_Bush/Laura_Bush_0028.jpg ===\n",
      "=== ./lfw/Nestor_Kirchner/Nestor_Kirchner_0024.jpg ===\n",
      "=== ./lfw/Gloria_Macapagal_Arroyo/Gloria_Macapagal_Arroyo_0001.jpg ===\n",
      "=== ./lfw/John_Ashcroft/John_Ashcroft_0049.jpg ===\n",
      "=== ./lfw/Jacques_Chirac/Jacques_Chirac_0052.jpg ===\n",
      "=== ./lfw/Arnold_Schwarzenegger/Arnold_Schwarzenegger_0042.jpg ===\n",
      "=== ./lfw/Junichiro_Koizumi/Junichiro_Koizumi_0043.jpg ===\n",
      "=== ./lfw/Nestor_Kirchner/Nestor_Kirchner_0006.jpg ===\n",
      "=== ./lfw/Biljana/23461_1269993063301_5582780_n.jpg ===\n",
      "=== ./lfw/Hans_Blix/Hans_Blix_0017.jpg ===\n",
      "=== ./lfw/Jacques_Chirac/Jacques_Chirac_0017.jpg ===\n",
      "=== ./lfw/Laura_Bush/Laura_Bush_0038.jpg ===\n",
      "=== ./lfw/Luiz_Inacio_Lula_da_Silva/Luiz_Inacio_Lula_da_Silva_0048.jpg ===\n",
      "=== ./lfw/Junichiro_Koizumi/Junichiro_Koizumi_0013.jpg ===\n",
      "=== ./lfw/Hans_Blix/Hans_Blix_0006.jpg ===\n",
      "=== ./lfw/Serena_Williams/Serena_Williams_0026.jpg ===\n",
      "=== ./lfw/Hans_Blix/Hans_Blix_0034.jpg ===\n",
      "=== ./lfw/Arnold_Schwarzenegger/Arnold_Schwarzenegger_0040.jpg ===\n",
      "=== ./lfw/Hans_Blix/Hans_Blix_0026.jpg ===\n",
      "=== ./lfw/Serena_Williams/Serena_Williams_0022.jpg ===\n",
      "=== ./lfw/Lleyton_Hewitt/Lleyton_Hewitt_0017.jpg ===\n",
      "=== ./lfw/Vladimir_Putin/Vladimir_Putin_0026.jpg ===\n",
      "=== ./lfw/Alejandro_Toledo/Alejandro_Toledo_0030.jpg ===\n",
      "=== ./lfw/Jacques_Chirac/Jacques_Chirac_0027.jpg ===\n",
      "=== ./lfw/Lleyton_Hewitt/Lleyton_Hewitt_0035.jpg ===\n",
      "=== ./lfw/Nestor_Kirchner/Nestor_Kirchner_0001.jpg ===\n",
      "=== ./lfw/Rajesh/rajesh36.jpeg ===\n",
      "=== ./lfw/Sercan/1.jpg ===\n",
      "=== ./lfw/John_Ashcroft/John_Ashcroft_0041.jpg ===\n",
      "=== ./lfw/Serena_Williams/Serena_Williams_0009.jpg ===\n",
      "=== ./lfw/Nestor_Kirchner/Nestor_Kirchner_0017.jpg ===\n",
      "=== ./lfw/Rajesh/rajesh37.jpeg ===\n",
      "=== ./lfw/Luiz_Inacio_Lula_da_Silva/Luiz_Inacio_Lula_da_Silva_0047.jpg ===\n",
      "=== ./lfw/Nestor_Kirchner/Nestor_Kirchner_0021.jpg ===\n",
      "=== ./lfw/John_Ashcroft/John_Ashcroft_0040.jpg ===\n",
      "=== ./lfw/Alejandro_Toledo/Alejandro_Toledo_0023.jpg ===\n",
      "=== ./lfw/Jacques_Chirac/Jacques_Chirac_0021.jpg ===\n",
      "=== ./lfw/Rajesh/rajesh28.jpeg ===\n",
      "=== ./lfw/Ozan/ozan24.jpg ===\n",
      "=== ./lfw/Rajesh/rajesh20.jpg ===\n",
      "=== ./lfw/Laura_Bush/Laura_Bush_0014.jpg ===\n",
      "=== ./lfw/Alejandro_Toledo/Alejandro_Toledo_0034.jpg ===\n",
      "=== ./lfw/Arnold_Schwarzenegger/Arnold_Schwarzenegger_0038.jpg ===\n",
      "=== ./lfw/Vladimir_Putin/Vladimir_Putin_0001.jpg ===\n",
      "=== ./lfw/Lleyton_Hewitt/Lleyton_Hewitt_0037.jpg ===\n",
      "=== ./lfw/Jennifer_Capriati/Jennifer_Capriati_0036.jpg ===\n",
      "=== ./lfw/Lleyton_Hewitt/Lleyton_Hewitt_0006.jpg ===\n",
      "=== ./lfw/Luiz_Inacio_Lula_da_Silva/Luiz_Inacio_Lula_da_Silva_0044.jpg ===\n",
      "=== ./lfw/Rajesh/rajesh15.jpg ===\n",
      "=== ./lfw/Alejandro_Toledo/Alejandro_Toledo_0032.jpg ===\n",
      "=== ./lfw/Junichiro_Koizumi/Junichiro_Koizumi_0040.jpg ===\n",
      "=== ./lfw/Sean/20170919_075420.jpg ===\n",
      "Invalid SOS parameters for sequential JPEG\n",
      "=== ./lfw/Luiz_Inacio_Lula_da_Silva/Luiz_Inacio_Lula_da_Silva_0001.jpg ===\n",
      "=== ./lfw/Junichiro_Koizumi/Junichiro_Koizumi_0044.jpg ===\n",
      "=== ./lfw/Nestor_Kirchner/Nestor_Kirchner_0018.jpg ===\n",
      "=== ./lfw/Gloria_Macapagal_Arroyo/Gloria_Macapagal_Arroyo_0008.jpg ===\n",
      "=== ./lfw/Junichiro_Koizumi/Junichiro_Koizumi_0003.jpg ===\n",
      "=== ./lfw/John_Ashcroft/John_Ashcroft_0033.jpg ===\n",
      "=== ./lfw/Rajesh/rajesh3.jpg ===\n",
      "=== ./lfw/Jacques_Chirac/Jacques_Chirac_0002.jpg ===\n",
      "=== ./lfw/Laura_Bush/Laura_Bush_0010.jpg ===\n",
      "=== ./lfw/Biljana/IMG_7458.JPG ===\n",
      "=== ./lfw/Vladimir_Putin/Vladimir_Putin_0031.jpg ===\n",
      "=== ./lfw/Jean_Chretien/Jean_Chretien_0009.jpg ===\n",
      "=== ./lfw/Jacques_Chirac/Jacques_Chirac_0018.jpg ===\n",
      "=== ./lfw/Gloria_Macapagal_Arroyo/Gloria_Macapagal_Arroyo_0014.jpg ===\n",
      "=== ./lfw/Junichiro_Koizumi/Junichiro_Koizumi_0031.jpg ===\n",
      "=== ./lfw/Serena_Williams/Serena_Williams_0004.jpg ===\n",
      "=== ./lfw/Serena_Williams/Serena_Williams_0042.jpg ===\n",
      "=== ./lfw/Arnold_Schwarzenegger/Arnold_Schwarzenegger_0033.jpg ===\n",
      "=== ./lfw/Junichiro_Koizumi/Junichiro_Koizumi_0059.jpg ===\n",
      "=== ./lfw/Lleyton_Hewitt/Lleyton_Hewitt_0011.jpg ===\n",
      "=== ./lfw/Alejandro_Toledo/Alejandro_Toledo_0038.jpg ===\n",
      "=== ./lfw/Alejandro_Toledo/Alejandro_Toledo_0035.jpg ===\n",
      "=== ./lfw/Alejandro_Toledo/Alejandro_Toledo_0036.jpg ===\n",
      "=== ./lfw/Sean/20180819_163932.jpg ===\n",
      "Invalid SOS parameters for sequential JPEG\n",
      "=== ./lfw/Serena_Williams/Serena_Williams_0052.jpg ===\n",
      "=== ./lfw/Jacques_Chirac/Jacques_Chirac_0032.jpg ===\n",
      "=== ./lfw/Nestor_Kirchner/Nestor_Kirchner_0002.jpg ===\n",
      "=== ./lfw/Sean/20181029_202519.jpg ===\n",
      "Invalid SOS parameters for sequential JPEG\n",
      "=== ./lfw/Laura_Bush/Laura_Bush_0027.jpg ===\n",
      "=== ./lfw/Biljana/10308567_10205452038684844_4066746393190691787_n.jpg ===\n",
      "=== ./lfw/Rajesh/rajesh2.jpg ===\n",
      "=== ./lfw/Sean/20180208_082020.jpg ===\n",
      "Invalid SOS parameters for sequential JPEG\n",
      "=== ./lfw/Vladimir_Putin/Vladimir_Putin_0018.jpg ===\n",
      "=== ./lfw/Ozan/20160509_193016.jpg ===\n",
      "=== ./lfw/Laura_Bush/Laura_Bush_0041.jpg ===\n",
      "=== ./lfw/Junichiro_Koizumi/Junichiro_Koizumi_0032.jpg ===\n",
      "=== ./lfw/Biljana/10660250_10205172688781271_3285111335289152440_n.jpg ===\n",
      "=== ./lfw/Biljana/IMG_5221.JPG ===\n",
      "=== ./lfw/John_Ashcroft/John_Ashcroft_0046.jpg ===\n",
      "=== ./lfw/Jennifer_Capriati/Jennifer_Capriati_0022.jpg ===\n",
      "=== ./lfw/Biljana/12273595_10208155054498550_7343668560015314456_o.jpg ===\n",
      "=== ./lfw/Laura_Bush/Laura_Bush_0040.jpg ===\n",
      "=== ./lfw/Lleyton_Hewitt/Lleyton_Hewitt_0009.jpg ===\n",
      "=== ./lfw/Serena_Williams/Serena_Williams_0043.jpg ===\n",
      "=== ./lfw/Luiz_Inacio_Lula_da_Silva/Luiz_Inacio_Lula_da_Silva_0029.jpg ===\n",
      "=== ./lfw/Sean/20170919_075446.jpg ===\n",
      "Invalid SOS parameters for sequential JPEG\n",
      "=== ./lfw/Rajesh/rajesh21.jpg ===\n",
      "=== ./lfw/Junichiro_Koizumi/Junichiro_Koizumi_0042.jpg ===\n",
      "=== ./lfw/Luiz_Inacio_Lula_da_Silva/Luiz_Inacio_Lula_da_Silva_0034.jpg ===\n",
      "=== ./lfw/Jacques_Chirac/Jacques_Chirac_0045.jpg ===\n",
      "=== ./lfw/Gloria_Macapagal_Arroyo/Gloria_Macapagal_Arroyo_0036.jpg ===\n",
      "=== ./lfw/Sean/20170919_075408.jpg ===\n",
      "Invalid SOS parameters for sequential JPEG\n",
      "=== ./lfw/Serena_Williams/Serena_Williams_0018.jpg ===\n",
      "=== ./lfw/Sercan/2.jpg ===\n",
      "=== ./lfw/Jean_Chretien/Jean_Chretien_0014.jpg ===\n",
      "=== ./lfw/Gloria_Macapagal_Arroyo/Gloria_Macapagal_Arroyo_0042.jpg ===\n",
      "=== ./lfw/Sercan/IMG_1060 2.jpg ===\n",
      "=== ./lfw/Gloria_Macapagal_Arroyo/Gloria_Macapagal_Arroyo_0003.jpg ===\n",
      "=== ./lfw/Jacques_Chirac/Jacques_Chirac_0015.jpg ===\n",
      "=== ./lfw/Serena_Williams/Serena_Williams_0047.jpg ===\n",
      "=== ./lfw/Rajesh/rajesh25.jpeg ===\n",
      "=== ./lfw/Nestor_Kirchner/Nestor_Kirchner_0003.jpg ===\n",
      "=== ./lfw/Alejandro_Toledo/Alejandro_Toledo_0033.jpg ===\n",
      "=== ./lfw/Luiz_Inacio_Lula_da_Silva/Luiz_Inacio_Lula_da_Silva_0027.jpg ===\n",
      "=== ./lfw/Luiz_Inacio_Lula_da_Silva/Luiz_Inacio_Lula_da_Silva_0009.jpg ===\n",
      "=== ./lfw/John_Ashcroft/John_Ashcroft_0001.jpg ===\n",
      "=== ./lfw/Vladimir_Putin/Vladimir_Putin_0012.jpg ===\n",
      "=== ./lfw/Vladimir_Putin/Vladimir_Putin_0011.jpg ===\n",
      "=== ./lfw/Rajesh/rajesh17.jpg ===\n",
      "=== ./lfw/Hans_Blix/Hans_Blix_0033.jpg ===\n",
      "=== ./lfw/Sercan/sercan.png ===\n",
      "=== ./lfw/Sean/20171019_232036.jpg ===\n",
      "Invalid SOS parameters for sequential JPEG\n",
      "=== ./lfw/Vladimir_Putin/Vladimir_Putin_0030.jpg ===\n",
      "=== ./lfw/Jennifer_Capriati/Jennifer_Capriati_0015.jpg ===\n",
      "=== ./lfw/Junichiro_Koizumi/Junichiro_Koizumi_0018.jpg ===\n",
      "=== ./lfw/John_Ashcroft/John_Ashcroft_0025.jpg ===\n",
      "=== ./lfw/Serena_Williams/Serena_Williams_0005.jpg ===\n",
      "=== ./lfw/Junichiro_Koizumi/Junichiro_Koizumi_0033.jpg ===\n",
      "=== ./lfw/Luiz_Inacio_Lula_da_Silva/Luiz_Inacio_Lula_da_Silva_0030.jpg ===\n",
      "=== ./lfw/Arnold_Schwarzenegger/Arnold_Schwarzenegger_0032.jpg ===\n",
      "=== ./lfw/Gloria_Macapagal_Arroyo/Gloria_Macapagal_Arroyo_0018.jpg ===\n",
      "=== ./lfw/Laura_Bush/Laura_Bush_0012.jpg ===\n",
      "=== ./lfw/Jennifer_Capriati/Jennifer_Capriati_0018.jpg ===\n",
      "=== ./lfw/Alejandro_Toledo/Alejandro_Toledo_0025.jpg ===\n",
      "=== ./lfw/Junichiro_Koizumi/Junichiro_Koizumi_0052.jpg ===\n",
      "=== ./lfw/Jacques_Chirac/Jacques_Chirac_0016.jpg ===\n",
      "=== ./lfw/Biljana/IMG_9782.JPG ===\n",
      "=== ./lfw/Luiz_Inacio_Lula_da_Silva/Luiz_Inacio_Lula_da_Silva_0010.jpg ===\n",
      "=== ./lfw/Ozan/ozan3.jpg ===\n",
      "=== ./lfw/Ozan/ozan7.jpg ===\n",
      "=== ./lfw/Jennifer_Capriati/Jennifer_Capriati_0034.jpg ===\n",
      "=== ./lfw/Hans_Blix/Hans_Blix_0024.jpg ===\n",
      "=== ./lfw/Serena_Williams/Serena_Williams_0028.jpg ===\n",
      "=== ./lfw/Arnold_Schwarzenegger/Arnold_Schwarzenegger_0021.jpg ===\n",
      "=== ./lfw/Jacques_Chirac/Jacques_Chirac_0046.jpg ===\n",
      "=== ./lfw/Nestor_Kirchner/Nestor_Kirchner_0016.jpg ===\n",
      "=== ./lfw/Biljana/1234403_10202195745199542_1751821811_n.jpg ===\n",
      "=== ./lfw/Jennifer_Capriati/Jennifer_Capriati_0033.jpg ===\n",
      "=== ./lfw/Jean_Chretien/Jean_Chretien_0050.jpg ===\n",
      "=== ./lfw/Jean_Chretien/Jean_Chretien_0048.jpg ===\n",
      "=== ./lfw/Luiz_Inacio_Lula_da_Silva/Luiz_Inacio_Lula_da_Silva_0012.jpg ===\n",
      "=== ./lfw/Serena_Williams/Serena_Williams_0034.jpg ===\n",
      "=== ./lfw/Jennifer_Capriati/Jennifer_Capriati_0009.jpg ===\n",
      "=== ./lfw/Lleyton_Hewitt/Lleyton_Hewitt_0036.jpg ===\n",
      "=== ./lfw/Hans_Blix/Hans_Blix_0016.jpg ===\n",
      "=== ./lfw/Junichiro_Koizumi/Junichiro_Koizumi_0019.jpg ===\n",
      "=== ./lfw/Vladimir_Putin/Vladimir_Putin_0040.jpg ===\n",
      "=== ./lfw/Nestor_Kirchner/Nestor_Kirchner_0007.jpg ===\n",
      "=== ./lfw/Serena_Williams/Serena_Williams_0001.jpg ===\n",
      "=== ./lfw/John_Ashcroft/John_Ashcroft_0019.jpg ===\n",
      "=== ./lfw/Sean/20181111_172248.jpg ===\n",
      "Invalid SOS parameters for sequential JPEG\n",
      "=== ./lfw/Biljana/IMG_5306s.jpg ===\n",
      "=== ./lfw/Alejandro_Toledo/Alejandro_Toledo_0016.jpg ===\n",
      "=== ./lfw/John_Ashcroft/John_Ashcroft_0029.jpg ===\n",
      "=== ./lfw/Jennifer_Capriati/Jennifer_Capriati_0030.jpg ===\n",
      "=== ./lfw/John_Ashcroft/John_Ashcroft_0021.jpg ===\n",
      "=== ./lfw/Gloria_Macapagal_Arroyo/Gloria_Macapagal_Arroyo_0005.jpg ===\n",
      "=== ./lfw/John_Ashcroft/John_Ashcroft_0005.jpg ===\n",
      "=== ./lfw/Junichiro_Koizumi/Junichiro_Koizumi_0011.jpg ===\n",
      "=== ./lfw/Jennifer_Capriati/Jennifer_Capriati_0040.jpg ===\n",
      "=== ./lfw/Gloria_Macapagal_Arroyo/Gloria_Macapagal_Arroyo_0039.jpg ===\n",
      "=== ./lfw/Jacques_Chirac/Jacques_Chirac_0030.jpg ===\n",
      "=== ./lfw/Alejandro_Toledo/Alejandro_Toledo_0004.jpg ===\n",
      "=== ./lfw/John_Ashcroft/John_Ashcroft_0045.jpg ===\n",
      "=== ./lfw/Serena_Williams/Serena_Williams_0008.jpg ===\n",
      "=== ./lfw/Arnold_Schwarzenegger/Arnold_Schwarzenegger_0003.jpg ===\n",
      "=== ./lfw/Arnold_Schwarzenegger/Arnold_Schwarzenegger_0020.jpg ===\n",
      "=== ./lfw/Junichiro_Koizumi/Junichiro_Koizumi_0054.jpg ===\n",
      "=== ./lfw/Jacques_Chirac/Jacques_Chirac_0009.jpg ===\n",
      "=== ./lfw/Laura_Bush/Laura_Bush_0022.jpg ===\n",
      "=== ./lfw/Rajesh/rajesh31.jpeg ===\n",
      "=== ./lfw/Lleyton_Hewitt/Lleyton_Hewitt_0041.jpg ===\n",
      "=== ./lfw/Junichiro_Koizumi/Junichiro_Koizumi_0016.jpg ===\n",
      "=== ./lfw/Sean/20170919_075506.jpg ===\n",
      "Invalid SOS parameters for sequential JPEG\n",
      "=== ./lfw/Vladimir_Putin/Vladimir_Putin_0044.jpg ===\n",
      "=== ./lfw/Serena_Williams/Serena_Williams_0031.jpg ===\n",
      "=== ./lfw/Luiz_Inacio_Lula_da_Silva/Luiz_Inacio_Lula_da_Silva_0016.jpg ===\n",
      "=== ./lfw/Rajesh/rajesh16.jpg ===\n",
      "=== ./lfw/Gloria_Macapagal_Arroyo/Gloria_Macapagal_Arroyo_0023.jpg ===\n",
      "=== ./lfw/Gloria_Macapagal_Arroyo/Gloria_Macapagal_Arroyo_0009.jpg ===\n",
      "=== ./lfw/Junichiro_Koizumi/Junichiro_Koizumi_0026.jpg ===\n",
      "=== ./lfw/Junichiro_Koizumi/Junichiro_Koizumi_0014.jpg ===\n",
      "=== ./lfw/Gloria_Macapagal_Arroyo/Gloria_Macapagal_Arroyo_0017.jpg ===\n",
      "=== ./lfw/Jacques_Chirac/Jacques_Chirac_0051.jpg ===\n",
      "=== ./lfw/Hans_Blix/Hans_Blix_0036.jpg ===\n",
      "=== ./lfw/Lleyton_Hewitt/Lleyton_Hewitt_0033.jpg ===\n",
      "=== ./lfw/Jean_Chretien/Jean_Chretien_0054.jpg ===\n",
      "=== ./lfw/Biljana/1908143_10206909897770410_3505092258663436959_n.jpg ===\n",
      "=== ./lfw/Arnold_Schwarzenegger/Arnold_Schwarzenegger_0023.jpg ===\n",
      "=== ./lfw/John_Ashcroft/John_Ashcroft_0015.jpg ===\n",
      "=== ./lfw/Vladimir_Putin/Vladimir_Putin_0005.jpg ===\n",
      "=== ./lfw/John_Ashcroft/John_Ashcroft_0023.jpg ===\n",
      "=== ./lfw/Gloria_Macapagal_Arroyo/Gloria_Macapagal_Arroyo_0038.jpg ===\n",
      "=== ./lfw/Nestor_Kirchner/Nestor_Kirchner_0034.jpg ===\n",
      "=== ./lfw/Serena_Williams/Serena_Williams_0036.jpg ===\n",
      "=== ./lfw/Arnold_Schwarzenegger/Arnold_Schwarzenegger_0017.jpg ===\n",
      "=== ./lfw/John_Ashcroft/John_Ashcroft_0042.jpg ===\n",
      "=== ./lfw/Jacques_Chirac/Jacques_Chirac_0012.jpg ===\n",
      "=== ./lfw/Hans_Blix/Hans_Blix_0022.jpg ===\n",
      "=== ./lfw/Junichiro_Koizumi/Junichiro_Koizumi_0034.jpg ===\n",
      "=== ./lfw/Rajesh/rajesh4.jpg ===\n",
      "=== ./lfw/John_Ashcroft/John_Ashcroft_0034.jpg ===\n",
      "=== ./lfw/Luiz_Inacio_Lula_da_Silva/Luiz_Inacio_Lula_da_Silva_0037.jpg ===\n",
      "=== ./lfw/Arnold_Schwarzenegger/Arnold_Schwarzenegger_0011.jpg ===\n",
      "=== ./lfw/Rajesh/rajesh26.jpeg ===\n",
      "=== ./lfw/Sean/20171019_232038.jpg ===\n",
      "Invalid SOS parameters for sequential JPEG\n",
      "=== ./lfw/Serena_Williams/Serena_Williams_0049.jpg ===\n",
      "=== ./lfw/Lleyton_Hewitt/Lleyton_Hewitt_0040.jpg ===\n",
      "=== ./lfw/Luiz_Inacio_Lula_da_Silva/Luiz_Inacio_Lula_da_Silva_0021.jpg ===\n",
      "=== ./lfw/Vladimir_Putin/Vladimir_Putin_0034.jpg ===\n",
      "=== ./lfw/Hans_Blix/Hans_Blix_0030.jpg ===\n",
      "=== ./lfw/Jean_Chretien/Jean_Chretien_0046.jpg ===\n",
      "=== ./lfw/John_Ashcroft/John_Ashcroft_0047.jpg ===\n",
      "=== ./lfw/Jennifer_Capriati/Jennifer_Capriati_0017.jpg ===\n",
      "=== ./lfw/Jean_Chretien/Jean_Chretien_0013.jpg ===\n",
      "=== ./lfw/Jacques_Chirac/Jacques_Chirac_0013.jpg ===\n",
      "=== ./lfw/Luiz_Inacio_Lula_da_Silva/Luiz_Inacio_Lula_da_Silva_0003.jpg ===\n",
      "=== ./lfw/Vladimir_Putin/Vladimir_Putin_0013.jpg ===\n",
      "=== ./lfw/Luiz_Inacio_Lula_da_Silva/Luiz_Inacio_Lula_da_Silva_0023.jpg ===\n",
      "=== ./lfw/Arnold_Schwarzenegger/Arnold_Schwarzenegger_0036.jpg ===\n",
      "=== ./lfw/Luiz_Inacio_Lula_da_Silva/Luiz_Inacio_Lula_da_Silva_0040.jpg ===\n",
      "=== ./lfw/Alejandro_Toledo/Alejandro_Toledo_0028.jpg ===\n",
      "=== ./lfw/Alejandro_Toledo/Alejandro_Toledo_0013.jpg ===\n",
      "=== ./lfw/Ozan/IMG-20150619-WA0001.jpg ===\n",
      "=== ./lfw/Jean_Chretien/Jean_Chretien_0041.jpg ===\n",
      "=== ./lfw/Jacques_Chirac/Jacques_Chirac_0048.jpg ===\n",
      "=== ./lfw/Luiz_Inacio_Lula_da_Silva/Luiz_Inacio_Lula_da_Silva_0019.jpg ===\n",
      "=== ./lfw/Gloria_Macapagal_Arroyo/Gloria_Macapagal_Arroyo_0013.jpg ===\n",
      "=== ./lfw/Jacques_Chirac/Jacques_Chirac_0020.jpg ===\n",
      "=== ./lfw/Laura_Bush/Laura_Bush_0021.jpg ===\n",
      "=== ./lfw/Junichiro_Koizumi/Junichiro_Koizumi_0045.jpg ===\n",
      "=== ./lfw/Serena_Williams/Serena_Williams_0011.jpg ===\n",
      "=== ./lfw/Sean/20171025_171618.jpg ===\n",
      "Invalid SOS parameters for sequential JPEG\n",
      "=== ./lfw/Jacques_Chirac/Jacques_Chirac_0044.jpg ===\n",
      "=== ./lfw/Arnold_Schwarzenegger/Arnold_Schwarzenegger_0026.jpg ===\n",
      "=== ./lfw/John_Ashcroft/John_Ashcroft_0008.jpg ===\n",
      "=== ./lfw/Arnold_Schwarzenegger/Arnold_Schwarzenegger_0008.jpg ===\n",
      "=== ./lfw/John_Ashcroft/John_Ashcroft_0039.jpg ===\n",
      "=== ./lfw/Gloria_Macapagal_Arroyo/Gloria_Macapagal_Arroyo_0010.jpg ===\n",
      "=== ./lfw/Jacques_Chirac/Jacques_Chirac_0034.jpg ===\n",
      "=== ./lfw/Lleyton_Hewitt/Lleyton_Hewitt_0015.jpg ===\n",
      "=== ./lfw/Hans_Blix/Hans_Blix_0020.jpg ===\n",
      "=== ./lfw/Jean_Chretien/Jean_Chretien_0001.jpg ===\n",
      "=== ./lfw/Arnold_Schwarzenegger/Arnold_Schwarzenegger_0041.jpg ===\n",
      "=== ./lfw/John_Ashcroft/John_Ashcroft_0017.jpg ===\n",
      "=== ./lfw/Jean_Chretien/Jean_Chretien_0032.jpg ===\n",
      "=== ./lfw/Serena_Williams/Serena_Williams_0012.jpg ===\n",
      "=== ./lfw/Serena_Williams/Serena_Williams_0051.jpg ===\n",
      "=== ./lfw/Lleyton_Hewitt/Lleyton_Hewitt_0034.jpg ===\n",
      "=== ./lfw/Gloria_Macapagal_Arroyo/Gloria_Macapagal_Arroyo_0019.jpg ===\n",
      "=== ./lfw/Lleyton_Hewitt/Lleyton_Hewitt_0026.jpg ===\n",
      "=== ./lfw/Jean_Chretien/Jean_Chretien_0005.jpg ===\n",
      "=== ./lfw/Jean_Chretien/Jean_Chretien_0021.jpg ===\n",
      "=== ./lfw/Gloria_Macapagal_Arroyo/Gloria_Macapagal_Arroyo_0020.jpg ===\n",
      "=== ./lfw/Jean_Chretien/Jean_Chretien_0012.jpg ===\n",
      "=== ./lfw/Nestor_Kirchner/Nestor_Kirchner_0030.jpg ===\n",
      "=== ./lfw/Luiz_Inacio_Lula_da_Silva/Luiz_Inacio_Lula_da_Silva_0031.jpg ===\n",
      "=== ./lfw/Arnold_Schwarzenegger/Arnold_Schwarzenegger_0002.jpg ===\n",
      "=== ./lfw/Rajesh/rajesh10.jpg ===\n",
      "=== ./lfw/Jacques_Chirac/Jacques_Chirac_0007.jpg ===\n",
      "=== ./lfw/Lleyton_Hewitt/Lleyton_Hewitt_0013.jpg ===\n",
      "=== ./lfw/Gloria_Macapagal_Arroyo/Gloria_Macapagal_Arroyo_0015.jpg ===\n",
      "=== ./lfw/Laura_Bush/Laura_Bush_0029.jpg ===\n",
      "=== ./lfw/Junichiro_Koizumi/Junichiro_Koizumi_0007.jpg ===\n",
      "=== ./lfw/Jennifer_Capriati/Jennifer_Capriati_0026.jpg ===\n",
      "=== ./lfw/Vladimir_Putin/Vladimir_Putin_0009.jpg ===\n",
      "=== ./lfw/Alejandro_Toledo/Alejandro_Toledo_0017.jpg ===\n",
      "=== ./lfw/Nestor_Kirchner/Nestor_Kirchner_0005.jpg ===\n",
      "=== ./lfw/Ozan/ozan25.jpg ===\n",
      "=== ./lfw/Jean_Chretien/Jean_Chretien_0025.jpg ===\n",
      "=== ./lfw/Alejandro_Toledo/Alejandro_Toledo_0024.jpg ===\n",
      "=== ./lfw/John_Ashcroft/John_Ashcroft_0003.jpg ===\n",
      "=== ./lfw/Alejandro_Toledo/Alejandro_Toledo_0021.jpg ===\n",
      "=== ./lfw/Junichiro_Koizumi/Junichiro_Koizumi_0012.jpg ===\n",
      "=== ./lfw/Vladimir_Putin/Vladimir_Putin_0007.jpg ===\n",
      "=== ./lfw/Vladimir_Putin/Vladimir_Putin_0025.jpg ===\n",
      "=== ./lfw/Jacques_Chirac/Jacques_Chirac_0026.jpg ===\n",
      "=== ./lfw/Rajesh/rajesh6.jpg ===\n",
      "=== ./lfw/Gloria_Macapagal_Arroyo/Gloria_Macapagal_Arroyo_0006.jpg ===\n",
      "=== ./lfw/Hans_Blix/Hans_Blix_0027.jpg ===\n",
      "=== ./lfw/Ozan/ozan18.jpg ===\n",
      "=== ./lfw/Biljana/549744_4374703530211_1085314393_n.jpg ===\n",
      "=== ./lfw/Jacques_Chirac/Jacques_Chirac_0033.jpg ===\n",
      "=== ./lfw/Jean_Chretien/Jean_Chretien_0033.jpg ===\n",
      "=== ./lfw/Rajesh/rajesh30.jpeg ===\n",
      "=== ./lfw/Junichiro_Koizumi/Junichiro_Koizumi_0038.jpg ===\n",
      "=== ./lfw/Junichiro_Koizumi/Junichiro_Koizumi_0047.jpg ===\n",
      "=== ./lfw/Vladimir_Putin/Vladimir_Putin_0046.jpg ===\n",
      "=== ./lfw/Lleyton_Hewitt/Lleyton_Hewitt_0021.jpg ===\n",
      "=== ./lfw/Arnold_Schwarzenegger/Arnold_Schwarzenegger_0022.jpg ===\n",
      "=== ./lfw/Arnold_Schwarzenegger/Arnold_Schwarzenegger_0018.jpg ===\n",
      "=== ./lfw/John_Ashcroft/John_Ashcroft_0014.jpg ===\n",
      "=== ./lfw/Laura_Bush/Laura_Bush_0018.jpg ===\n",
      "=== ./lfw/Alejandro_Toledo/Alejandro_Toledo_0012.jpg ===\n",
      "=== ./lfw/Junichiro_Koizumi/Junichiro_Koizumi_0060.jpg ===\n",
      "=== ./lfw/Jennifer_Capriati/Jennifer_Capriati_0029.jpg ===\n",
      "=== ./lfw/Jennifer_Capriati/Jennifer_Capriati_0035.jpg ===\n",
      "=== ./lfw/Ozan/ozan23.jpg ===\n",
      "=== ./lfw/Sean/20180118_170524.jpg ===\n",
      "Invalid SOS parameters for sequential JPEG\n",
      "=== ./lfw/Sean/20180121_172246.jpg ===\n",
      "Invalid SOS parameters for sequential JPEG\n",
      "=== ./lfw/Lleyton_Hewitt/Lleyton_Hewitt_0016.jpg ===\n",
      "=== ./lfw/John_Ashcroft/John_Ashcroft_0038.jpg ===\n",
      "=== ./lfw/Luiz_Inacio_Lula_da_Silva/Luiz_Inacio_Lula_da_Silva_0018.jpg ===\n",
      "=== ./lfw/Luiz_Inacio_Lula_da_Silva/Luiz_Inacio_Lula_da_Silva_0002.jpg ===\n",
      "=== ./lfw/Laura_Bush/Laura_Bush_0036.jpg ===\n",
      "=== ./lfw/Hans_Blix/Hans_Blix_0009.jpg ===\n",
      "=== ./lfw/Serena_Williams/Serena_Williams_0027.jpg ===\n",
      "=== ./lfw/Lleyton_Hewitt/Lleyton_Hewitt_0004.jpg ===\n",
      "=== ./lfw/Sercan/4.jpg ===\n",
      "=== ./lfw/Jennifer_Capriati/Jennifer_Capriati_0013.jpg ===\n",
      "=== ./lfw/Jean_Chretien/Jean_Chretien_0016.jpg ===\n",
      "=== ./lfw/Serena_Williams/Serena_Williams_0041.jpg ===\n",
      "=== ./lfw/John_Ashcroft/John_Ashcroft_0048.jpg ===\n",
      "=== ./lfw/Jean_Chretien/Jean_Chretien_0006.jpg ===\n",
      "=== ./lfw/Hans_Blix/Hans_Blix_0015.jpg ===\n",
      "=== ./lfw/Sean/20171019_232032.jpg ===\n",
      "Invalid SOS parameters for sequential JPEG\n",
      "=== ./lfw/Sean/20171019_232034.jpg ===\n",
      "Invalid SOS parameters for sequential JPEG\n",
      "=== ./lfw/John_Ashcroft/John_Ashcroft_0016.jpg ===\n"
     ]
    }
   ],
   "source": [
    "#Generate aligned images for entrire data set and remove if any empty folders\n",
    "!python3 ./openface/util/align-dlib.py ./lfw/ align outerEyesAndNose ./aligned-images-lfw/ --size 96"
   ]
  },
  {
   "cell_type": "code",
   "execution_count": 3,
   "metadata": {},
   "outputs": [],
   "source": [
    "#Define the align Data Set Path\n",
    "dataSetPath = \"./aligned-images-lfw/\""
   ]
  },
  {
   "cell_type": "code",
   "execution_count": 4,
   "metadata": {},
   "outputs": [],
   "source": [
    "# List out all the person names in the aligned images\n",
    "personNames = os.listdir(dataSetPath)"
   ]
  },
  {
   "cell_type": "code",
   "execution_count": 5,
   "metadata": {},
   "outputs": [
    {
     "data": {
      "text/plain": [
       "20"
      ]
     },
     "execution_count": 5,
     "metadata": {},
     "output_type": "execute_result"
    }
   ],
   "source": [
    "# Total Number of Persons or Classes to be classified\n",
    "len(personNames)"
   ]
  },
  {
   "cell_type": "code",
   "execution_count": 6,
   "metadata": {},
   "outputs": [],
   "source": [
    "numGrayImages = []"
   ]
  },
  {
   "cell_type": "markdown",
   "metadata": {},
   "source": [
    "### Iterate through the aligned image data set and read the images and write to data frame\n",
    "### Set a constraint to have atleast 10 images per person"
   ]
  },
  {
   "cell_type": "code",
   "execution_count": 7,
   "metadata": {},
   "outputs": [],
   "source": [
    "for personName in personNames:\n",
    "    personImages = os.listdir(dataSetPath+personName)\n",
    "    if(len(personImages) >=10):\n",
    "        for image in personImages:\n",
    "            imageFileName  = os.path.join(dataSetPath,personName,image)\n",
    "            #print(imageFileName)\n",
    "            image = cv2.imread(imageFileName)\n",
    "            gray = cv2.cvtColor(image, cv2.COLOR_BGR2GRAY).astype('float32')\n",
    "            #gray = gray[..., np.newaxis]\n",
    "            #flatGray = gray.flatten()\n",
    "            numGrayImages.append([personName,imageFileName, gray])"
   ]
  },
  {
   "cell_type": "code",
   "execution_count": 8,
   "metadata": {},
   "outputs": [],
   "source": [
    "df = pd.DataFrame(numGrayImages,columns=['Name','ImagePath','Pixels'])"
   ]
  },
  {
   "cell_type": "code",
   "execution_count": 9,
   "metadata": {},
   "outputs": [],
   "source": [
    "dict_labels = {}"
   ]
  },
  {
   "cell_type": "markdown",
   "metadata": {},
   "source": [
    "### Keep the names and the corresponding classification number for further reference."
   ]
  },
  {
   "cell_type": "code",
   "execution_count": 10,
   "metadata": {},
   "outputs": [],
   "source": [
    "nameSet = set(df['Name'])\n",
    "i=0\n",
    "for name in nameSet:\n",
    "    dict_labels[name] = i\n",
    "    i=i+1"
   ]
  },
  {
   "cell_type": "code",
   "execution_count": 11,
   "metadata": {},
   "outputs": [
    {
     "data": {
      "text/plain": [
       "20"
      ]
     },
     "execution_count": 11,
     "metadata": {},
     "output_type": "execute_result"
    }
   ],
   "source": [
    "len(nameSet)"
   ]
  },
  {
   "cell_type": "code",
   "execution_count": 12,
   "metadata": {},
   "outputs": [],
   "source": [
    "df['personCategory'] = [ dict_labels.get(name) for name in df['Name']]\n"
   ]
  },
  {
   "cell_type": "code",
   "execution_count": 13,
   "metadata": {},
   "outputs": [
    {
     "data": {
      "text/plain": [
       "20"
      ]
     },
     "execution_count": 13,
     "metadata": {},
     "output_type": "execute_result"
    }
   ],
   "source": [
    "len(df['personCategory'].unique())"
   ]
  },
  {
   "cell_type": "code",
   "execution_count": 14,
   "metadata": {},
   "outputs": [
    {
     "data": {
      "text/html": [
       "<div>\n",
       "<style scoped>\n",
       "    .dataframe tbody tr th:only-of-type {\n",
       "        vertical-align: middle;\n",
       "    }\n",
       "\n",
       "    .dataframe tbody tr th {\n",
       "        vertical-align: top;\n",
       "    }\n",
       "\n",
       "    .dataframe thead th {\n",
       "        text-align: right;\n",
       "    }\n",
       "</style>\n",
       "<table border=\"1\" class=\"dataframe\">\n",
       "  <thead>\n",
       "    <tr style=\"text-align: right;\">\n",
       "      <th></th>\n",
       "      <th>Name</th>\n",
       "      <th>ImagePath</th>\n",
       "      <th>Pixels</th>\n",
       "      <th>personCategory</th>\n",
       "    </tr>\n",
       "  </thead>\n",
       "  <tbody>\n",
       "    <tr>\n",
       "      <th>0</th>\n",
       "      <td>Rajesh</td>\n",
       "      <td>./aligned-images-lfw/Rajesh/rajesh38.png</td>\n",
       "      <td>[[58.0, 58.0, 58.0, 56.0, 60.0, 58.0, 59.0, 68...</td>\n",
       "      <td>7</td>\n",
       "    </tr>\n",
       "    <tr>\n",
       "      <th>1</th>\n",
       "      <td>Rajesh</td>\n",
       "      <td>./aligned-images-lfw/Rajesh/rajesh35.png</td>\n",
       "      <td>[[45.0, 44.0, 46.0, 48.0, 51.0, 55.0, 69.0, 97...</td>\n",
       "      <td>7</td>\n",
       "    </tr>\n",
       "    <tr>\n",
       "      <th>2</th>\n",
       "      <td>Rajesh</td>\n",
       "      <td>./aligned-images-lfw/Rajesh/rajesh12.png</td>\n",
       "      <td>[[6.0, 7.0, 12.0, 12.0, 11.0, 11.0, 31.0, 54.0...</td>\n",
       "      <td>7</td>\n",
       "    </tr>\n",
       "  </tbody>\n",
       "</table>\n",
       "</div>"
      ],
      "text/plain": [
       "     Name                                 ImagePath  \\\n",
       "0  Rajesh  ./aligned-images-lfw/Rajesh/rajesh38.png   \n",
       "1  Rajesh  ./aligned-images-lfw/Rajesh/rajesh35.png   \n",
       "2  Rajesh  ./aligned-images-lfw/Rajesh/rajesh12.png   \n",
       "\n",
       "                                              Pixels  personCategory  \n",
       "0  [[58.0, 58.0, 58.0, 56.0, 60.0, 58.0, 59.0, 68...               7  \n",
       "1  [[45.0, 44.0, 46.0, 48.0, 51.0, 55.0, 69.0, 97...               7  \n",
       "2  [[6.0, 7.0, 12.0, 12.0, 11.0, 11.0, 31.0, 54.0...               7  "
      ]
     },
     "execution_count": 14,
     "metadata": {},
     "output_type": "execute_result"
    }
   ],
   "source": [
    "df.head(3)"
   ]
  },
  {
   "cell_type": "code",
   "execution_count": 15,
   "metadata": {},
   "outputs": [
    {
     "data": {
      "text/plain": [
       "(96, 96)"
      ]
     },
     "execution_count": 15,
     "metadata": {},
     "output_type": "execute_result"
    }
   ],
   "source": [
    "df['Pixels'][0].shape"
   ]
  },
  {
   "cell_type": "code",
   "execution_count": 16,
   "metadata": {},
   "outputs": [
    {
     "data": {
      "text/plain": [
       "20"
      ]
     },
     "execution_count": 16,
     "metadata": {},
     "output_type": "execute_result"
    }
   ],
   "source": [
    "len(df['Name'].unique())"
   ]
  },
  {
   "cell_type": "code",
   "execution_count": 17,
   "metadata": {},
   "outputs": [
    {
     "data": {
      "text/plain": [
       "<Figure size 640x480 with 1 Axes>"
      ]
     },
     "metadata": {},
     "output_type": "display_data"
    }
   ],
   "source": [
    "import matplotlib.pyplot as plt\n",
    "plt.imshow(df['Pixels'][0], cmap=plt.cm.gray)\n",
    "plt.show()"
   ]
  },
  {
   "cell_type": "markdown",
   "metadata": {},
   "source": [
    "### Save the data to the csv fine along with the names the same we will use in \n",
    "### recognizing the image file to get the classification number of each individual."
   ]
  },
  {
   "cell_type": "code",
   "execution_count": 18,
   "metadata": {},
   "outputs": [],
   "source": [
    "df.to_csv(\"./LFWGrayImagesWithPixels_Modified_gt10.csv\")"
   ]
  },
  {
   "cell_type": "markdown",
   "metadata": {},
   "source": [
    "### Create the Training Data set, validation Set for cross validation and Test Data set to test the model accuracy\n",
    "### Save the data to the files for further reference."
   ]
  },
  {
   "cell_type": "code",
   "execution_count": 19,
   "metadata": {},
   "outputs": [],
   "source": [
    "from sklearn.model_selection import train_test_split\n",
    "training_set1 ,test_set = train_test_split(df,test_size=0.20)"
   ]
  },
  {
   "cell_type": "code",
   "execution_count": 20,
   "metadata": {},
   "outputs": [],
   "source": [
    "\n",
    "test_set.to_csv(\"./LFWTestSet_Modified.csv\")"
   ]
  },
  {
   "cell_type": "code",
   "execution_count": 21,
   "metadata": {},
   "outputs": [],
   "source": [
    "training_set ,validation_set = train_test_split(training_set1,test_size=0.10)"
   ]
  },
  {
   "cell_type": "code",
   "execution_count": 22,
   "metadata": {},
   "outputs": [],
   "source": [
    "training_set.to_csv(\"./LFWTrainSet_Modified.csv\")\n",
    "validation_set.to_csv(\"./LFWValidationSet_Modified.csv\")"
   ]
  },
  {
   "cell_type": "code",
   "execution_count": 23,
   "metadata": {},
   "outputs": [
    {
     "data": {
      "text/plain": [
       "(839, 4)"
      ]
     },
     "execution_count": 23,
     "metadata": {},
     "output_type": "execute_result"
    }
   ],
   "source": [
    "df.shape"
   ]
  },
  {
   "cell_type": "markdown",
   "metadata": {},
   "source": [
    "### Import all the packages required for the Nueral Network Model Building"
   ]
  },
  {
   "cell_type": "code",
   "execution_count": 24,
   "metadata": {},
   "outputs": [
    {
     "name": "stderr",
     "output_type": "stream",
     "text": [
      "/home/rajesh/anaconda3/lib/python3.6/site-packages/h5py/__init__.py:36: FutureWarning: Conversion of the second argument of issubdtype from `float` to `np.floating` is deprecated. In future, it will be treated as `np.float64 == np.dtype(float).type`.\n",
      "  from ._conv import register_converters as _register_converters\n",
      "Using TensorFlow backend.\n"
     ]
    }
   ],
   "source": [
    "import tensorflow as tf\n",
    "import keras\n",
    "from keras.models import Sequential\n",
    "from keras.layers import Dense, Dropout, Flatten, Conv2D, MaxPooling2D, Activation, BatchNormalization\n",
    "#from keras import backend as K\n",
    "import numpy as np\n",
    "import os\n",
    "import matplotlib.pyplot as plt\n",
    "import pandas as pd\n",
    "%matplotlib inline"
   ]
  },
  {
   "cell_type": "code",
   "execution_count": 25,
   "metadata": {},
   "outputs": [
    {
     "data": {
      "text/plain": [
       "((603, 4), (68, 4), (168, 4))"
      ]
     },
     "execution_count": 25,
     "metadata": {},
     "output_type": "execute_result"
    }
   ],
   "source": [
    "training_set.shape,validation_set.shape, test_set.shape"
   ]
  },
  {
   "cell_type": "markdown",
   "metadata": {},
   "source": [
    "### Define the learning rate, epoch value and batch size for the Neural Network Model."
   ]
  },
  {
   "cell_type": "code",
   "execution_count": 26,
   "metadata": {},
   "outputs": [],
   "source": [
    "learning_rate = 0.001\n",
    "epochs_value = 12\n",
    "batch_size_value = 32\n",
    "\n",
    "seed = 123; np.random.seed(seed); tf.set_random_seed(seed)"
   ]
  },
  {
   "cell_type": "code",
   "execution_count": 27,
   "metadata": {},
   "outputs": [],
   "source": [
    "# Few constants, Image related\n",
    "IMAGE_SIZE = 96; \n",
    "VALIDATION_PERCENT = 0.1  \n",
    "IMAGE_LOCATION_NORM = IMAGE_SIZE / 2\n",
    "NUM_LABELS = len(dict_labels)"
   ]
  },
  {
   "cell_type": "markdown",
   "metadata": {},
   "source": [
    "### Define th training, validation and test data set dimensions to fit our network topology"
   ]
  },
  {
   "cell_type": "code",
   "execution_count": 28,
   "metadata": {},
   "outputs": [],
   "source": [
    "train_data=training_set['Pixels']/255.0\n",
    "train_labels = training_set['personCategory']\n",
    "eval_data = validation_set['Pixels']/255.0\n",
    "eval_labels = validation_set['personCategory']\n",
    "test_images = test_set['Pixels']/255.0"
   ]
  },
  {
   "cell_type": "code",
   "execution_count": 29,
   "metadata": {},
   "outputs": [
    {
     "data": {
      "text/plain": [
       "((603,), (603,), (68,), (68,), (168,))"
      ]
     },
     "execution_count": 29,
     "metadata": {},
     "output_type": "execute_result"
    }
   ],
   "source": [
    "train_data.shape, train_labels.shape, eval_data.shape, eval_labels.shape, test_images.shape"
   ]
  },
  {
   "cell_type": "code",
   "execution_count": 30,
   "metadata": {},
   "outputs": [],
   "source": [
    "train_data = train_data.values"
   ]
  },
  {
   "cell_type": "code",
   "execution_count": 31,
   "metadata": {},
   "outputs": [],
   "source": [
    "train_data = np.array([ data.reshape(IMAGE_SIZE, IMAGE_SIZE, 1) for data in train_data])"
   ]
  },
  {
   "cell_type": "code",
   "execution_count": 32,
   "metadata": {},
   "outputs": [
    {
     "data": {
      "text/plain": [
       "(603, 96, 96, 1)"
      ]
     },
     "execution_count": 32,
     "metadata": {},
     "output_type": "execute_result"
    }
   ],
   "source": [
    "train_data.shape"
   ]
  },
  {
   "cell_type": "code",
   "execution_count": 33,
   "metadata": {},
   "outputs": [],
   "source": [
    "eval_data = np.array([ data.reshape(IMAGE_SIZE, IMAGE_SIZE, 1) for data in eval_data])"
   ]
  },
  {
   "cell_type": "code",
   "execution_count": 34,
   "metadata": {},
   "outputs": [],
   "source": [
    "test_images = np.array([ data.reshape(IMAGE_SIZE, IMAGE_SIZE, 1) for data in test_images])"
   ]
  },
  {
   "cell_type": "code",
   "execution_count": 35,
   "metadata": {},
   "outputs": [
    {
     "data": {
      "text/plain": [
       "(68, 96, 96, 1)"
      ]
     },
     "execution_count": 35,
     "metadata": {},
     "output_type": "execute_result"
    }
   ],
   "source": [
    "eval_data.shape"
   ]
  },
  {
   "cell_type": "code",
   "execution_count": 36,
   "metadata": {},
   "outputs": [],
   "source": [
    "train_labels = train_labels.values"
   ]
  },
  {
   "cell_type": "code",
   "execution_count": 37,
   "metadata": {},
   "outputs": [],
   "source": [
    "eval_labels = eval_labels.values"
   ]
  },
  {
   "cell_type": "code",
   "execution_count": 38,
   "metadata": {},
   "outputs": [],
   "source": [
    "eval_labels = keras.utils.to_categorical(eval_labels, NUM_LABELS)\n",
    "train_labels = keras.utils.to_categorical(train_labels, NUM_LABELS)"
   ]
  },
  {
   "cell_type": "code",
   "execution_count": 39,
   "metadata": {},
   "outputs": [
    {
     "data": {
      "text/plain": [
       "((603, 96, 96, 1), (603, 20), (68, 96, 96, 1), (68, 20), (168, 96, 96, 1))"
      ]
     },
     "execution_count": 39,
     "metadata": {},
     "output_type": "execute_result"
    }
   ],
   "source": [
    "train_data.shape, train_labels.shape, eval_data.shape, eval_labels.shape, test_images.shape"
   ]
  },
  {
   "cell_type": "code",
   "execution_count": 40,
   "metadata": {},
   "outputs": [],
   "source": [
    "test_labels = test_set['personCategory']"
   ]
  },
  {
   "cell_type": "code",
   "execution_count": 41,
   "metadata": {},
   "outputs": [],
   "source": [
    "test_labels = keras.utils.to_categorical(test_labels.values, NUM_LABELS)"
   ]
  },
  {
   "cell_type": "code",
   "execution_count": 42,
   "metadata": {},
   "outputs": [
    {
     "data": {
      "text/plain": [
       "(168, 20)"
      ]
     },
     "execution_count": 42,
     "metadata": {},
     "output_type": "execute_result"
    }
   ],
   "source": [
    "test_labels.shape"
   ]
  },
  {
   "cell_type": "markdown",
   "metadata": {},
   "source": [
    "### Create the name Dictionary with key as label number and value as Person Name"
   ]
  },
  {
   "cell_type": "code",
   "execution_count": 43,
   "metadata": {},
   "outputs": [],
   "source": [
    "nameDict={}"
   ]
  },
  {
   "cell_type": "code",
   "execution_count": 44,
   "metadata": {},
   "outputs": [],
   "source": [
    "nameSet = set(df['Name'])\n",
    "i=0\n",
    "for name in nameSet:\n",
    "    nameDict[i] = name\n",
    "    i=i+1"
   ]
  },
  {
   "cell_type": "code",
   "execution_count": 46,
   "metadata": {},
   "outputs": [
    {
     "data": {
      "text/plain": [
       "'Serena_Williams'"
      ]
     },
     "execution_count": 46,
     "metadata": {},
     "output_type": "execute_result"
    }
   ],
   "source": [
    "nameDict[0]"
   ]
  },
  {
   "cell_type": "markdown",
   "metadata": {},
   "source": [
    "### Build the Neural Network model with 13 layers, compile and train the model"
   ]
  },
  {
   "cell_type": "code",
   "execution_count": 47,
   "metadata": {},
   "outputs": [
    {
     "name": "stdout",
     "output_type": "stream",
     "text": [
      "_________________________________________________________________\n",
      "Layer (type)                 Output Shape              Param #   \n",
      "=================================================================\n",
      "conv2d_1 (Conv2D)            (None, 92, 92, 32)        832       \n",
      "_________________________________________________________________\n",
      "batch_normalization_1 (Batch (None, 92, 92, 32)        128       \n",
      "_________________________________________________________________\n",
      "max_pooling2d_1 (MaxPooling2 (None, 46, 46, 32)        0         \n",
      "_________________________________________________________________\n",
      "conv2d_2 (Conv2D)            (None, 44, 44, 64)        18496     \n",
      "_________________________________________________________________\n",
      "batch_normalization_2 (Batch (None, 44, 44, 64)        256       \n",
      "_________________________________________________________________\n",
      "max_pooling2d_2 (MaxPooling2 (None, 22, 22, 64)        0         \n",
      "_________________________________________________________________\n",
      "dropout_1 (Dropout)          (None, 22, 22, 64)        0         \n",
      "_________________________________________________________________\n",
      "flatten_1 (Flatten)          (None, 30976)             0         \n",
      "_________________________________________________________________\n",
      "dense_1 (Dense)              (None, 256)               7929856   \n",
      "_________________________________________________________________\n",
      "batch_normalization_3 (Batch (None, 256)               1024      \n",
      "_________________________________________________________________\n",
      "activation_1 (Activation)    (None, 256)               0         \n",
      "_________________________________________________________________\n",
      "dropout_2 (Dropout)          (None, 256)               0         \n",
      "_________________________________________________________________\n",
      "dense_2 (Dense)              (None, 20)                5140      \n",
      "=================================================================\n",
      "Total params: 7,955,732\n",
      "Trainable params: 7,955,028\n",
      "Non-trainable params: 704\n",
      "_________________________________________________________________\n"
     ]
    }
   ],
   "source": [
    "from keras.models import Sequential\n",
    "from keras.layers import Dense, Dropout, Flatten, Conv2D, MaxPooling2D, Activation, BatchNormalization\n",
    "\n",
    "model = Sequential()\n",
    "\n",
    "model.add(Conv2D(32, kernel_size=(5, 5), activation='relu', input_shape=(96, 96,1)))\n",
    "model.add(BatchNormalization())\n",
    "model.add(MaxPooling2D(pool_size=(2, 2)))\n",
    "\n",
    "model.add(Conv2D(64, (3, 3), activation='relu'))\n",
    "model.add(BatchNormalization())\n",
    "model.add(MaxPooling2D(pool_size=(2, 2)))\n",
    "model.add(Dropout(0.25))\n",
    "\n",
    "model.add(Flatten())\n",
    "\n",
    "#model.add(Dense(256, activation='relu'))\n",
    "model.add(Dense(256, use_bias=False))\n",
    "model.add(BatchNormalization())\n",
    "model.add(Activation('relu'))\n",
    "model.add(Dropout(0.25))\n",
    "\n",
    "model.add(Dense(NUM_LABELS, activation='softmax'))\n",
    "model.summary()"
   ]
  },
  {
   "cell_type": "code",
   "execution_count": 48,
   "metadata": {},
   "outputs": [],
   "source": [
    "model.compile(loss=keras.losses.categorical_crossentropy, optimizer=keras.optimizers.Adam(lr=learning_rate),  metrics=['accuracy'])"
   ]
  },
  {
   "cell_type": "code",
   "execution_count": 49,
   "metadata": {},
   "outputs": [
    {
     "name": "stdout",
     "output_type": "stream",
     "text": [
      "Train on 603 samples, validate on 68 samples\n",
      "Epoch 1/12\n",
      "603/603 [==============================] - 14s 23ms/step - loss: 2.1118 - acc: 0.3964 - val_loss: 1.6963 - val_acc: 0.4706\n",
      "Epoch 2/12\n",
      "603/603 [==============================] - 12s 21ms/step - loss: 0.5019 - acc: 0.9187 - val_loss: 1.8081 - val_acc: 0.5294\n",
      "Epoch 3/12\n",
      "603/603 [==============================] - 12s 20ms/step - loss: 0.1649 - acc: 0.9917 - val_loss: 1.7223 - val_acc: 0.4265\n",
      "Epoch 4/12\n",
      "603/603 [==============================] - 12s 21ms/step - loss: 0.0658 - acc: 0.9967 - val_loss: 1.9148 - val_acc: 0.3971\n",
      "Epoch 5/12\n",
      "603/603 [==============================] - 12s 21ms/step - loss: 0.0376 - acc: 1.0000 - val_loss: 0.8936 - val_acc: 0.7794\n",
      "Epoch 6/12\n",
      "603/603 [==============================] - 12s 21ms/step - loss: 0.0266 - acc: 1.0000 - val_loss: 0.6729 - val_acc: 0.8088\n",
      "Epoch 7/12\n",
      "603/603 [==============================] - 12s 21ms/step - loss: 0.0166 - acc: 1.0000 - val_loss: 0.6723 - val_acc: 0.8382\n",
      "Epoch 8/12\n",
      "603/603 [==============================] - 12s 20ms/step - loss: 0.0145 - acc: 1.0000 - val_loss: 0.6399 - val_acc: 0.8676\n",
      "Epoch 9/12\n",
      "603/603 [==============================] - 14s 23ms/step - loss: 0.0102 - acc: 1.0000 - val_loss: 0.5933 - val_acc: 0.8382\n",
      "Epoch 10/12\n",
      "603/603 [==============================] - 13s 21ms/step - loss: 0.0093 - acc: 1.0000 - val_loss: 0.6651 - val_acc: 0.8382\n",
      "Epoch 11/12\n",
      "603/603 [==============================] - 13s 22ms/step - loss: 0.0075 - acc: 1.0000 - val_loss: 0.5194 - val_acc: 0.8971\n",
      "Epoch 12/12\n",
      "603/603 [==============================] - 14s 22ms/step - loss: 0.0067 - acc: 1.0000 - val_loss: 0.5212 - val_acc: 0.8971\n"
     ]
    }
   ],
   "source": [
    "training_model = model.fit(train_data, train_labels, batch_size=batch_size_value, epochs=epochs_value, verbose=1, validation_data=(eval_data, eval_labels))"
   ]
  },
  {
   "cell_type": "markdown",
   "metadata": {},
   "source": [
    "### Evaluate the model with the test data set"
   ]
  },
  {
   "cell_type": "code",
   "execution_count": 50,
   "metadata": {},
   "outputs": [
    {
     "name": "stdout",
     "output_type": "stream",
     "text": [
      "168/168 [==============================] - 1s 8ms/step\n"
     ]
    },
    {
     "data": {
      "text/plain": [
       "[0.5581428295090085, 0.8452380952380952]"
      ]
     },
     "execution_count": 50,
     "metadata": {},
     "output_type": "execute_result"
    }
   ],
   "source": [
    "result = model.evaluate(test_images, test_labels, verbose=1)\n",
    "result"
   ]
  },
  {
   "cell_type": "code",
   "execution_count": 51,
   "metadata": {},
   "outputs": [
    {
     "data": {
      "text/plain": [
       "13"
      ]
     },
     "execution_count": 51,
     "metadata": {},
     "output_type": "execute_result"
    }
   ],
   "source": [
    "len(model.layers)"
   ]
  },
  {
   "cell_type": "code",
   "execution_count": 52,
   "metadata": {},
   "outputs": [
    {
     "name": "stdout",
     "output_type": "stream",
     "text": [
      "68/68 [==============================] - 1s 8ms/step\n",
      "Eval loss: 0.5212104522130069\n",
      "Eval accuracy: 0.8970588235294118\n"
     ]
    },
    {
     "data": {
      "text/plain": [
       "([0.39635157466527837,\n",
       "  0.9187396344656177,\n",
       "  0.9917081260364843,\n",
       "  0.9966832504145937,\n",
       "  1.0,\n",
       "  1.0,\n",
       "  1.0,\n",
       "  1.0,\n",
       "  1.0,\n",
       "  1.0,\n",
       "  1.0,\n",
       "  1.0],\n",
       " [0.47058823529411764,\n",
       "  0.5294117647058824,\n",
       "  0.4264705882352941,\n",
       "  0.39705882352941174,\n",
       "  0.7794117647058824,\n",
       "  0.8088235294117647,\n",
       "  0.8382352941176471,\n",
       "  0.8676470588235294,\n",
       "  0.8382352941176471,\n",
       "  0.8382352941176471,\n",
       "  0.8970588235294118,\n",
       "  0.8970588235294118])"
      ]
     },
     "execution_count": 52,
     "metadata": {},
     "output_type": "execute_result"
    }
   ],
   "source": [
    "score = model.evaluate(eval_data, eval_labels, verbose=1)\n",
    "print('Eval loss:', score[0])\n",
    "print('Eval accuracy:', score[1]) \n",
    "training_model.history['acc'], training_model.history['val_acc']"
   ]
  },
  {
   "cell_type": "markdown",
   "metadata": {},
   "source": [
    "### Save the model to be used in the Image tagging application"
   ]
  },
  {
   "cell_type": "code",
   "execution_count": 53,
   "metadata": {},
   "outputs": [],
   "source": [
    "model.save('tagFaceFinalModel.keras', overwrite=True)"
   ]
  },
  {
   "cell_type": "code",
   "execution_count": 54,
   "metadata": {},
   "outputs": [
    {
     "name": "stdout",
     "output_type": "stream",
     "text": [
      "loss 0.5581428295090085\n",
      "acc 0.8452380952380952\n"
     ]
    }
   ],
   "source": [
    "for name, value in zip(model.metrics_names, result):\n",
    "    print (name, value)"
   ]
  },
  {
   "cell_type": "markdown",
   "metadata": {},
   "source": [
    "### Plot the training and evaluation accuracy"
   ]
  },
  {
   "cell_type": "code",
   "execution_count": 55,
   "metadata": {},
   "outputs": [
    {
     "data": {
      "image/png": "[encoded data removed]",
      "text/plain": [
       "<Figure size 432x288 with 1 Axes>"
      ]
     },
     "metadata": {},
     "output_type": "display_data"
    }
   ],
   "source": [
    "plt.plot(range(1,epochs_value+1), training_model.history['acc'], 'r+', label='training acc')\n",
    "plt.plot(range(1,epochs_value+1), training_model.history['val_acc'], 'bo', label='evaluation acc')\n",
    "plt.xlabel('Epochs\\n\\n Accuracy: '+str(value))\n",
    "plt.ylabel('Loss')\n",
    "plt.legend()\n",
    "plt.show()"
   ]
  },
  {
   "cell_type": "markdown",
   "metadata": {},
   "source": [
    "### Plot the test images along with prediction labels and actual labels"
   ]
  },
  {
   "cell_type": "code",
   "execution_count": 56,
   "metadata": {},
   "outputs": [],
   "source": [
    "def plot_images(images, cls_true, cls_pred=None):\n",
    "    n = int(np.sqrt(len(images))) \n",
    "    fig, axes = plt.subplots(n, n +1)\n",
    "    fig.subplots_adjust(hspace=1, wspace=1)\n",
    "\n",
    "    for i, ax in enumerate(axes.flat):\n",
    "        # Plot image.\n",
    "        if(i<len(images)):\n",
    "            ax.imshow(images[i].reshape(96,96), cmap=plt.cm.gray)\n",
    "\n",
    "            # Show true and predicted classes.\n",
    "            if cls_pred is None:\n",
    "                xlabel = \"Actual: {0}\".format(cls_true[i])\n",
    "            else:\n",
    "                xlabel = \"Actual: {0},\\n Prediction: {1}\".format(cls_true[i], cls_pred[i])\n",
    "\n",
    "            ax.set_xlabel(xlabel)\n",
    "\n",
    "            # Remove ticks from the plot.\n",
    "            ax.set_xticks([])\n",
    "            ax.set_yticks([])\n",
    "        \n",
    "    plt.show()"
   ]
  },
  {
   "cell_type": "code",
   "execution_count": 57,
   "metadata": {},
   "outputs": [
    {
     "data": {
      "image/png": "[encoded data removed]",
      "text/plain": [
       "<Figure size 432x288 with 12 Axes>"
      ]
     },
     "metadata": {},
     "output_type": "display_data"
    }
   ],
   "source": [
    "R_img = range (0,15)\n",
    "plot_images(test_images[R_img], np.argmax(test_labels[R_img],axis=1), np.argmax(model.predict(test_images[R_img]), axis=1))"
   ]
  },
  {
   "cell_type": "code",
   "execution_count": 58,
   "metadata": {},
   "outputs": [
    {
     "data": {
      "text/plain": [
       "array([0.99416673, 0.9836443 , 0.98786455, 0.81647635, 0.8517395 ,\n",
       "       0.8896222 , 0.9100038 , 0.84225905, 0.99534273, 0.54774016,\n",
       "       0.94541025, 0.41191348, 0.98341113, 0.7719185 , 0.99111474,\n",
       "       0.92236227, 0.85203755, 0.9631406 , 0.3294843 , 0.40403447],\n",
       "      dtype=float32)"
      ]
     },
     "execution_count": 58,
     "metadata": {},
     "output_type": "execute_result"
    }
   ],
   "source": [
    "np.max(model.predict(test_images[0:20]),axis=1)"
   ]
  },
  {
   "cell_type": "code",
   "execution_count": 59,
   "metadata": {},
   "outputs": [
    {
     "data": {
      "text/plain": [
       "array([ 0,  3,  1, 18,  7,  7,  6,  4,  8, 12, 12,  9,  8,  3,  5,  1, 17,\n",
       "       16,  5,  6])"
      ]
     },
     "execution_count": 59,
     "metadata": {},
     "output_type": "execute_result"
    }
   ],
   "source": [
    "np.argmax(model.predict(test_images[0:20]), axis=1)"
   ]
  },
  {
   "cell_type": "code",
   "execution_count": 60,
   "metadata": {},
   "outputs": [
    {
     "data": {
      "text/plain": [
       "array([ 0,  3,  1, 18,  7,  7,  6,  4,  8, 12, 12,  9,  8,  3,  5,  1,  7,\n",
       "       16, 15,  6])"
      ]
     },
     "execution_count": 60,
     "metadata": {},
     "output_type": "execute_result"
    }
   ],
   "source": [
    "np.argmax(test_labels[0:20],axis=1)"
   ]
  }
 ],
 "metadata": {
  "kernelspec": {
   "display_name": "Python 3",
   "language": "python",
   "name": "python3"
  },
  "language_info": {
   "codemirror_mode": {
    "name": "ipython",
    "version": 3
   },
   "file_extension": ".py",
   "mimetype": "text/x-python",
   "name": "python",
   "nbconvert_exporter": "python",
   "pygments_lexer": "ipython3",
   "version": "3.6.5"
  }
 },
 "nbformat": 4,
 "nbformat_minor": 2
}
